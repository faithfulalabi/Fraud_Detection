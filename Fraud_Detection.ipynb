{
 "cells": [
  {
   "cell_type": "code",
   "execution_count": 17,
   "id": "e78ffcfb",
   "metadata": {},
   "outputs": [],
   "source": [
    "# packages for data loading, data analysis, and data preparation\n",
    "import numpy as np\n",
    "import pandas as pd\n",
    "import matplotlib.pyplot as plt\n",
    "import seaborn as sns \n",
    "from sklearn.preprocessing import StandardScaler\n",
    "from sklearn.utils import resample\n",
    "\n",
    "# packages for modek evaluation and classification models\n",
    "from sklearn.model_selection import train_test_split,KFold,cross_val_score,GridSearchCV\n",
    "from sklearn.linear_model import LogisticRegression\n",
    "from sklearn.tree import DecisionTreeClassifier\n",
    "from sklearn.neighbors import KNeighborsClassifier\n",
    "from sklearn.discriminant_analysis import LinearDiscriminantAnalysis\n",
    "from sklearn.naive_bayes import GaussianNB\n",
    "from sklearn.svm import SVC\n",
    "from xgboost import XGBClassifier\n",
    "from sklearn.neural_network import MLPClassifier\n",
    "from sklearn.pipeline import Pipeline\n",
    "from sklearn.ensemble import AdaBoostClassifier,GradientBoostingClassifier,RandomForestClassifier,ExtraTreesClassifier\n",
    "from sklearn.metrics import classification_report,confusion_matrix,accuracy_score\n",
    "\n",
    "# packages for saving the model\n",
    "from pickle import dump, load"
   ]
  },
  {
   "cell_type": "code",
   "execution_count": 2,
   "id": "f1a22066",
   "metadata": {},
   "outputs": [],
   "source": [
    "# reads in the data \n",
    "df = pd.read_csv('creditcard.csv')"
   ]
  },
  {
   "cell_type": "code",
   "execution_count": 3,
   "id": "a01dc0c9",
   "metadata": {},
   "outputs": [
    {
     "data": {
      "text/html": [
       "<div>\n",
       "<style scoped>\n",
       "    .dataframe tbody tr th:only-of-type {\n",
       "        vertical-align: middle;\n",
       "    }\n",
       "\n",
       "    .dataframe tbody tr th {\n",
       "        vertical-align: top;\n",
       "    }\n",
       "\n",
       "    .dataframe thead th {\n",
       "        text-align: right;\n",
       "    }\n",
       "</style>\n",
       "<table border=\"1\" class=\"dataframe\">\n",
       "  <thead>\n",
       "    <tr style=\"text-align: right;\">\n",
       "      <th></th>\n",
       "      <th>Time</th>\n",
       "      <th>V1</th>\n",
       "      <th>V2</th>\n",
       "      <th>V3</th>\n",
       "      <th>V4</th>\n",
       "      <th>V5</th>\n",
       "      <th>V6</th>\n",
       "      <th>V7</th>\n",
       "      <th>V8</th>\n",
       "      <th>V9</th>\n",
       "      <th>...</th>\n",
       "      <th>V21</th>\n",
       "      <th>V22</th>\n",
       "      <th>V23</th>\n",
       "      <th>V24</th>\n",
       "      <th>V25</th>\n",
       "      <th>V26</th>\n",
       "      <th>V27</th>\n",
       "      <th>V28</th>\n",
       "      <th>Amount</th>\n",
       "      <th>Class</th>\n",
       "    </tr>\n",
       "  </thead>\n",
       "  <tbody>\n",
       "    <tr>\n",
       "      <th>91283</th>\n",
       "      <td>63394.0</td>\n",
       "      <td>1.454064</td>\n",
       "      <td>-0.415964</td>\n",
       "      <td>-0.332912</td>\n",
       "      <td>-0.818096</td>\n",
       "      <td>-0.418602</td>\n",
       "      <td>-0.706141</td>\n",
       "      <td>-0.149370</td>\n",
       "      <td>-0.228398</td>\n",
       "      <td>-0.938367</td>\n",
       "      <td>...</td>\n",
       "      <td>-0.872203</td>\n",
       "      <td>-2.161158</td>\n",
       "      <td>0.163273</td>\n",
       "      <td>-0.665756</td>\n",
       "      <td>0.093417</td>\n",
       "      <td>0.687100</td>\n",
       "      <td>-0.084047</td>\n",
       "      <td>-0.000767</td>\n",
       "      <td>21.98</td>\n",
       "      <td>0</td>\n",
       "    </tr>\n",
       "    <tr>\n",
       "      <th>52031</th>\n",
       "      <td>45245.0</td>\n",
       "      <td>0.829410</td>\n",
       "      <td>-2.038609</td>\n",
       "      <td>0.482999</td>\n",
       "      <td>-0.989132</td>\n",
       "      <td>-2.188945</td>\n",
       "      <td>-0.976227</td>\n",
       "      <td>-0.611605</td>\n",
       "      <td>-0.294338</td>\n",
       "      <td>-1.829442</td>\n",
       "      <td>...</td>\n",
       "      <td>-0.141467</td>\n",
       "      <td>-0.813385</td>\n",
       "      <td>-0.078746</td>\n",
       "      <td>0.688314</td>\n",
       "      <td>-0.029302</td>\n",
       "      <td>-0.467100</td>\n",
       "      <td>-0.018941</td>\n",
       "      <td>0.092194</td>\n",
       "      <td>349.70</td>\n",
       "      <td>0</td>\n",
       "    </tr>\n",
       "    <tr>\n",
       "      <th>242253</th>\n",
       "      <td>151412.0</td>\n",
       "      <td>-0.084578</td>\n",
       "      <td>-0.065957</td>\n",
       "      <td>-0.264618</td>\n",
       "      <td>-3.057972</td>\n",
       "      <td>0.756498</td>\n",
       "      <td>-1.950441</td>\n",
       "      <td>1.322763</td>\n",
       "      <td>-0.748074</td>\n",
       "      <td>-0.860445</td>\n",
       "      <td>...</td>\n",
       "      <td>-0.218770</td>\n",
       "      <td>-0.006197</td>\n",
       "      <td>-0.271515</td>\n",
       "      <td>-0.094622</td>\n",
       "      <td>-0.035631</td>\n",
       "      <td>0.257563</td>\n",
       "      <td>-0.087609</td>\n",
       "      <td>-0.075626</td>\n",
       "      <td>11.78</td>\n",
       "      <td>0</td>\n",
       "    </tr>\n",
       "    <tr>\n",
       "      <th>17439</th>\n",
       "      <td>28720.0</td>\n",
       "      <td>1.548510</td>\n",
       "      <td>-1.058162</td>\n",
       "      <td>0.384006</td>\n",
       "      <td>-1.718831</td>\n",
       "      <td>-1.114312</td>\n",
       "      <td>0.205602</td>\n",
       "      <td>-1.310541</td>\n",
       "      <td>0.016813</td>\n",
       "      <td>-1.945282</td>\n",
       "      <td>...</td>\n",
       "      <td>-0.075670</td>\n",
       "      <td>0.234233</td>\n",
       "      <td>-0.166442</td>\n",
       "      <td>-0.815275</td>\n",
       "      <td>0.505906</td>\n",
       "      <td>-0.051424</td>\n",
       "      <td>0.054955</td>\n",
       "      <td>0.006748</td>\n",
       "      <td>7.10</td>\n",
       "      <td>0</td>\n",
       "    </tr>\n",
       "    <tr>\n",
       "      <th>252520</th>\n",
       "      <td>155846.0</td>\n",
       "      <td>-1.386030</td>\n",
       "      <td>1.871936</td>\n",
       "      <td>-0.167669</td>\n",
       "      <td>-0.784715</td>\n",
       "      <td>0.714819</td>\n",
       "      <td>-0.316842</td>\n",
       "      <td>0.451654</td>\n",
       "      <td>-1.546896</td>\n",
       "      <td>-0.510457</td>\n",
       "      <td>...</td>\n",
       "      <td>1.749967</td>\n",
       "      <td>0.138926</td>\n",
       "      <td>-0.404903</td>\n",
       "      <td>-0.482458</td>\n",
       "      <td>1.174697</td>\n",
       "      <td>0.005335</td>\n",
       "      <td>-0.535400</td>\n",
       "      <td>-0.341549</td>\n",
       "      <td>15.77</td>\n",
       "      <td>0</td>\n",
       "    </tr>\n",
       "    <tr>\n",
       "      <th>198476</th>\n",
       "      <td>132506.0</td>\n",
       "      <td>-1.092468</td>\n",
       "      <td>2.354291</td>\n",
       "      <td>-2.435501</td>\n",
       "      <td>-0.005151</td>\n",
       "      <td>0.312453</td>\n",
       "      <td>-0.723043</td>\n",
       "      <td>-1.004165</td>\n",
       "      <td>-1.795737</td>\n",
       "      <td>-0.621107</td>\n",
       "      <td>...</td>\n",
       "      <td>-0.972910</td>\n",
       "      <td>1.091878</td>\n",
       "      <td>0.082379</td>\n",
       "      <td>-0.669555</td>\n",
       "      <td>-0.375776</td>\n",
       "      <td>-0.152298</td>\n",
       "      <td>-0.045016</td>\n",
       "      <td>0.096314</td>\n",
       "      <td>1.00</td>\n",
       "      <td>0</td>\n",
       "    </tr>\n",
       "    <tr>\n",
       "      <th>72802</th>\n",
       "      <td>54862.0</td>\n",
       "      <td>-1.092078</td>\n",
       "      <td>0.087247</td>\n",
       "      <td>0.669716</td>\n",
       "      <td>-2.127842</td>\n",
       "      <td>0.546272</td>\n",
       "      <td>-0.010488</td>\n",
       "      <td>0.912106</td>\n",
       "      <td>-0.631430</td>\n",
       "      <td>-0.846978</td>\n",
       "      <td>...</td>\n",
       "      <td>-0.512617</td>\n",
       "      <td>-0.328071</td>\n",
       "      <td>-0.170784</td>\n",
       "      <td>-0.967560</td>\n",
       "      <td>-0.339494</td>\n",
       "      <td>0.755990</td>\n",
       "      <td>-0.981608</td>\n",
       "      <td>-0.718214</td>\n",
       "      <td>45.00</td>\n",
       "      <td>0</td>\n",
       "    </tr>\n",
       "    <tr>\n",
       "      <th>264235</th>\n",
       "      <td>161328.0</td>\n",
       "      <td>2.264429</td>\n",
       "      <td>-1.289786</td>\n",
       "      <td>-0.633486</td>\n",
       "      <td>-1.448757</td>\n",
       "      <td>-1.415171</td>\n",
       "      <td>-0.941878</td>\n",
       "      <td>-1.039218</td>\n",
       "      <td>-0.342247</td>\n",
       "      <td>-1.330944</td>\n",
       "      <td>...</td>\n",
       "      <td>-0.133546</td>\n",
       "      <td>0.202769</td>\n",
       "      <td>0.227918</td>\n",
       "      <td>0.069631</td>\n",
       "      <td>-0.205351</td>\n",
       "      <td>-0.186856</td>\n",
       "      <td>0.029518</td>\n",
       "      <td>-0.041146</td>\n",
       "      <td>25.90</td>\n",
       "      <td>0</td>\n",
       "    </tr>\n",
       "    <tr>\n",
       "      <th>252573</th>\n",
       "      <td>155871.0</td>\n",
       "      <td>-1.472783</td>\n",
       "      <td>1.264924</td>\n",
       "      <td>1.406985</td>\n",
       "      <td>-0.428519</td>\n",
       "      <td>-0.782581</td>\n",
       "      <td>-0.143498</td>\n",
       "      <td>-0.403896</td>\n",
       "      <td>1.073626</td>\n",
       "      <td>-0.313478</td>\n",
       "      <td>...</td>\n",
       "      <td>-0.025720</td>\n",
       "      <td>-0.409082</td>\n",
       "      <td>-0.151059</td>\n",
       "      <td>-0.042485</td>\n",
       "      <td>0.246368</td>\n",
       "      <td>-0.441022</td>\n",
       "      <td>-0.310004</td>\n",
       "      <td>-0.072085</td>\n",
       "      <td>5.00</td>\n",
       "      <td>0</td>\n",
       "    </tr>\n",
       "    <tr>\n",
       "      <th>6036</th>\n",
       "      <td>6812.0</td>\n",
       "      <td>-2.004591</td>\n",
       "      <td>-0.256810</td>\n",
       "      <td>1.757286</td>\n",
       "      <td>2.147817</td>\n",
       "      <td>0.277250</td>\n",
       "      <td>0.039871</td>\n",
       "      <td>0.869712</td>\n",
       "      <td>-0.030926</td>\n",
       "      <td>1.032149</td>\n",
       "      <td>...</td>\n",
       "      <td>-0.265107</td>\n",
       "      <td>0.196746</td>\n",
       "      <td>0.876532</td>\n",
       "      <td>0.311417</td>\n",
       "      <td>0.005239</td>\n",
       "      <td>-0.151691</td>\n",
       "      <td>0.146437</td>\n",
       "      <td>-0.021839</td>\n",
       "      <td>143.95</td>\n",
       "      <td>0</td>\n",
       "    </tr>\n",
       "  </tbody>\n",
       "</table>\n",
       "<p>10 rows × 31 columns</p>\n",
       "</div>"
      ],
      "text/plain": [
       "            Time        V1        V2        V3        V4        V5        V6  \\\n",
       "91283    63394.0  1.454064 -0.415964 -0.332912 -0.818096 -0.418602 -0.706141   \n",
       "52031    45245.0  0.829410 -2.038609  0.482999 -0.989132 -2.188945 -0.976227   \n",
       "242253  151412.0 -0.084578 -0.065957 -0.264618 -3.057972  0.756498 -1.950441   \n",
       "17439    28720.0  1.548510 -1.058162  0.384006 -1.718831 -1.114312  0.205602   \n",
       "252520  155846.0 -1.386030  1.871936 -0.167669 -0.784715  0.714819 -0.316842   \n",
       "198476  132506.0 -1.092468  2.354291 -2.435501 -0.005151  0.312453 -0.723043   \n",
       "72802    54862.0 -1.092078  0.087247  0.669716 -2.127842  0.546272 -0.010488   \n",
       "264235  161328.0  2.264429 -1.289786 -0.633486 -1.448757 -1.415171 -0.941878   \n",
       "252573  155871.0 -1.472783  1.264924  1.406985 -0.428519 -0.782581 -0.143498   \n",
       "6036      6812.0 -2.004591 -0.256810  1.757286  2.147817  0.277250  0.039871   \n",
       "\n",
       "              V7        V8        V9  ...       V21       V22       V23  \\\n",
       "91283  -0.149370 -0.228398 -0.938367  ... -0.872203 -2.161158  0.163273   \n",
       "52031  -0.611605 -0.294338 -1.829442  ... -0.141467 -0.813385 -0.078746   \n",
       "242253  1.322763 -0.748074 -0.860445  ... -0.218770 -0.006197 -0.271515   \n",
       "17439  -1.310541  0.016813 -1.945282  ... -0.075670  0.234233 -0.166442   \n",
       "252520  0.451654 -1.546896 -0.510457  ...  1.749967  0.138926 -0.404903   \n",
       "198476 -1.004165 -1.795737 -0.621107  ... -0.972910  1.091878  0.082379   \n",
       "72802   0.912106 -0.631430 -0.846978  ... -0.512617 -0.328071 -0.170784   \n",
       "264235 -1.039218 -0.342247 -1.330944  ... -0.133546  0.202769  0.227918   \n",
       "252573 -0.403896  1.073626 -0.313478  ... -0.025720 -0.409082 -0.151059   \n",
       "6036    0.869712 -0.030926  1.032149  ... -0.265107  0.196746  0.876532   \n",
       "\n",
       "             V24       V25       V26       V27       V28  Amount  Class  \n",
       "91283  -0.665756  0.093417  0.687100 -0.084047 -0.000767   21.98      0  \n",
       "52031   0.688314 -0.029302 -0.467100 -0.018941  0.092194  349.70      0  \n",
       "242253 -0.094622 -0.035631  0.257563 -0.087609 -0.075626   11.78      0  \n",
       "17439  -0.815275  0.505906 -0.051424  0.054955  0.006748    7.10      0  \n",
       "252520 -0.482458  1.174697  0.005335 -0.535400 -0.341549   15.77      0  \n",
       "198476 -0.669555 -0.375776 -0.152298 -0.045016  0.096314    1.00      0  \n",
       "72802  -0.967560 -0.339494  0.755990 -0.981608 -0.718214   45.00      0  \n",
       "264235  0.069631 -0.205351 -0.186856  0.029518 -0.041146   25.90      0  \n",
       "252573 -0.042485  0.246368 -0.441022 -0.310004 -0.072085    5.00      0  \n",
       "6036    0.311417  0.005239 -0.151691  0.146437 -0.021839  143.95      0  \n",
       "\n",
       "[10 rows x 31 columns]"
      ]
     },
     "execution_count": 3,
     "metadata": {},
     "output_type": "execute_result"
    }
   ],
   "source": [
    "# looks at 10 random rows in the data\n",
    "df.sample(10)"
   ]
  },
  {
   "cell_type": "code",
   "execution_count": 4,
   "id": "6d1029e9",
   "metadata": {},
   "outputs": [
    {
     "name": "stdout",
     "output_type": "stream",
     "text": [
      "<class 'pandas.core.frame.DataFrame'>\n",
      "RangeIndex: 284807 entries, 0 to 284806\n",
      "Data columns (total 31 columns):\n",
      " #   Column  Non-Null Count   Dtype  \n",
      "---  ------  --------------   -----  \n",
      " 0   Time    284807 non-null  float64\n",
      " 1   V1      284807 non-null  float64\n",
      " 2   V2      284807 non-null  float64\n",
      " 3   V3      284807 non-null  float64\n",
      " 4   V4      284807 non-null  float64\n",
      " 5   V5      284807 non-null  float64\n",
      " 6   V6      284807 non-null  float64\n",
      " 7   V7      284807 non-null  float64\n",
      " 8   V8      284807 non-null  float64\n",
      " 9   V9      284807 non-null  float64\n",
      " 10  V10     284807 non-null  float64\n",
      " 11  V11     284807 non-null  float64\n",
      " 12  V12     284807 non-null  float64\n",
      " 13  V13     284807 non-null  float64\n",
      " 14  V14     284807 non-null  float64\n",
      " 15  V15     284807 non-null  float64\n",
      " 16  V16     284807 non-null  float64\n",
      " 17  V17     284807 non-null  float64\n",
      " 18  V18     284807 non-null  float64\n",
      " 19  V19     284807 non-null  float64\n",
      " 20  V20     284807 non-null  float64\n",
      " 21  V21     284807 non-null  float64\n",
      " 22  V22     284807 non-null  float64\n",
      " 23  V23     284807 non-null  float64\n",
      " 24  V24     284807 non-null  float64\n",
      " 25  V25     284807 non-null  float64\n",
      " 26  V26     284807 non-null  float64\n",
      " 27  V27     284807 non-null  float64\n",
      " 28  V28     284807 non-null  float64\n",
      " 29  Amount  284807 non-null  float64\n",
      " 30  Class   284807 non-null  int64  \n",
      "dtypes: float64(30), int64(1)\n",
      "memory usage: 67.4 MB\n"
     ]
    }
   ],
   "source": [
    "df.info()"
   ]
  },
  {
   "cell_type": "code",
   "execution_count": 5,
   "id": "810da50e",
   "metadata": {},
   "outputs": [
    {
     "data": {
      "text/plain": [
       "No Fraud    284315\n",
       "Fraud          492\n",
       "Name: Class, dtype: int64"
      ]
     },
     "execution_count": 5,
     "metadata": {},
     "output_type": "execute_result"
    }
   ],
   "source": [
    "# looks at the balance of Fraud and None Fraud\n",
    "class_name ={0:'No Fraud',1:'Fraud'}\n",
    "df['Class'].value_counts().rename(index=class_name)"
   ]
  },
  {
   "cell_type": "code",
   "execution_count": 7,
   "id": "fa57a869",
   "metadata": {},
   "outputs": [
    {
     "name": "stderr",
     "output_type": "stream",
     "text": [
      "/home/faithful/Desktop/Data_Sci_Projects/Fraud_Detection/venv/lib/python3.8/site-packages/seaborn/_decorators.py:36: FutureWarning: Pass the following variable as a keyword arg: x. From version 0.12, the only valid positional argument will be `data`, and passing other arguments without an explicit keyword will result in an error or misinterpretation.\n",
      "  warnings.warn(\n"
     ]
    },
    {
     "data": {
      "image/png": "[encoded data removed]",
      "text/plain": [
       "<Figure size 432x288 with 1 Axes>"
      ]
     },
     "metadata": {},
     "output_type": "display_data"
    }
   ],
   "source": [
    "colors = [\"g\", \"r\"]\n",
    "plt.figure(figsize=(6, 4))\n",
    "sns.set_style('whitegrid')\n",
    "\n",
    "x = df['Class'].replace(to_replace=[1, 0], value=['Fraud','No Fraud'])\n",
    "sns.countplot(x,palette=colors,data=df)\n",
    "plt.title('Counts of Fraud & No Fraud')\n",
    "plt.show()"
   ]
  },
  {
   "cell_type": "code",
   "execution_count": 8,
   "id": "0a6e716b",
   "metadata": {},
   "outputs": [],
   "source": [
    "# splitting the data into train test split \n",
    "X = df.drop('Class',axis=1)\n",
    "y = df['Class']\n",
    "validation_size = 0.2\n",
    "seed = 7\n",
    "X_train, X_test, y_train, y_test = train_test_split(X, y, test_size=validation_size, random_state=seed)"
   ]
  },
  {
   "cell_type": "code",
   "execution_count": 10,
   "id": "0b4a007f",
   "metadata": {},
   "outputs": [
    {
     "data": {
      "text/plain": [
       "No Fraud    227453\n",
       "Fraud       227453\n",
       "Name: Class, dtype: int64"
      ]
     },
     "execution_count": 10,
     "metadata": {},
     "output_type": "execute_result"
    }
   ],
   "source": [
    "# concatenate our training data back together\n",
    "data = pd.concat([X_train,y_train],axis=1)\n",
    "\n",
    "#separate minority and majority classes\n",
    "no_fraud = data[data['Class']==0]\n",
    "fraud = data[data['Class']== 1]\n",
    "\n",
    "# unsample minority\n",
    "fraud_upsampled = resample(fraud,\n",
    "                          replace=True, # sample with replacement\n",
    "                          n_samples=len(no_fraud), # match number in majority class\n",
    "                          random_state=42) \n",
    "# combines majority and unsampled minority\n",
    "unsampled = pd.concat([no_fraud,fraud_upsampled])\n",
    "\n",
    "# resplitting the data\n",
    "y_train_new = unsampled['Class']\n",
    "X_train_new = unsampled.drop('Class',axis=1)\n",
    "y_train_new.value_counts().rename(index=class_name)"
   ]
  },
  {
   "cell_type": "code",
   "execution_count": 14,
   "id": "5e02cd77",
   "metadata": {},
   "outputs": [
    {
     "name": "stderr",
     "output_type": "stream",
     "text": [
      "/home/faithful/Desktop/Data_Sci_Projects/Fraud_Detection/venv/lib/python3.8/site-packages/seaborn/_decorators.py:36: FutureWarning: Pass the following variable as a keyword arg: x. From version 0.12, the only valid positional argument will be `data`, and passing other arguments without an explicit keyword will result in an error or misinterpretation.\n",
      "  warnings.warn(\n"
     ]
    },
    {
     "data": {
      "image/png": "[encoded data removed]",
      "text/plain": [
       "<Figure size 1500x1200 with 1 Axes>"
      ]
     },
     "metadata": {},
     "output_type": "display_data"
    }
   ],
   "source": [
    "plt.figure(figsize=(10,8),dpi=150)\n",
    "x = unsampled['Class'].replace(to_replace=[1, 0], value=['Fraud','No Fraud'])\n",
    "sns.countplot( x,data=unsampled,palette=colors)\n",
    "plt.title('Counts of Fraud & No Fraud')\n",
    "plt.show()"
   ]
  },
  {
   "cell_type": "code",
   "execution_count": 15,
   "id": "d92f930e",
   "metadata": {},
   "outputs": [],
   "source": [
    "# scaling the inputs of the dataset\n",
    "scaler = StandardScaler()\n",
    "X_train_new = scaler.fit_transform(X_train_new)\n",
    "X_test = scaler.transform(X_test)"
   ]
  },
  {
   "cell_type": "code",
   "execution_count": 16,
   "id": "c98a38e2",
   "metadata": {},
   "outputs": [],
   "source": [
    "# function that takes in model and training score and stores them in a df\n",
    "# setting up inital dataframe\n",
    "model_result_df=pd.DataFrame(columns=[\"model_name\",\"TrainScore\"])\n",
    "\n",
    "def stores_model_results(modl_name,train_score):\n",
    "    global model_result_df # changes the state of the global variable \n",
    "    row_loc=model_result_df.shape[0]+1\n",
    "    model_result_df.loc[row_loc,[\"model_name\",\"TrainScore\"]]=[modl_name,train_score]"
   ]
  },
  {
   "cell_type": "code",
   "execution_count": 32,
   "id": "43221318",
   "metadata": {},
   "outputs": [],
   "source": [
    "# Run each model and show the combined results.\n",
    "def show_model_scores(x,y):\n",
    "    #global model_result_df\n",
    "    #model_result_df=model_result_df.iloc[0:0] # resets the display df\n",
    "    scoring = 'accuracy'\n",
    "    model_result_df = pd.DataFrame(columns = ['Model', 'TrainScore'])\n",
    "    for name,model in  [('LR',LogisticRegression(solver='lbfgs')),\n",
    "                   ('LDA',LinearDiscriminantAnalysis()),\n",
    "                   ('KNN',KNeighborsClassifier()),\n",
    "                   ('CART',DecisionTreeClassifier()),\n",
    "                   ('XGB',XGBClassifier()),\n",
    "                   ('ETR',ExtraTreesClassifier()),\n",
    "                    ('RF',RandomForestClassifier()),\n",
    "                  ('Ada',AdaBoostClassifier()),\n",
    "                        ('GBM',GradientBoostingClassifier()),\n",
    "                       ('NB',GaussianNB()),\n",
    "                       ('SVM',SVC()),\n",
    "                       ('NN'),MLPClassifier()]:\n",
    "        kflod = KFold(n_splits=10,random_state=seed,shuffle=True)\n",
    "        cv_results = cross_val_score(model,x,y,cv=kflod,scoring=scoring)\n",
    "        t = pd.Series({'Model':name,\n",
    "                       'TrainScore': cv_results})\n",
    "        model_result_df= model_result_df.append(t,ignore_index=True)\n",
    "        #stores_model_results(name, cross_val_score(model,x,y,cv=3).mean())\n",
    "        #model_result_df.sort_values(\"TrainScore\",ascending=False,inplace=True,axis=1)\n",
    "    print(model_result_df)\n",
    "    #plots out the result\n",
    "    sns.set_style(\"darkgrid\")\n",
    "    plt.figure(figsize=(10,8),dpi=150)\n",
    "    axes = sns.boxplot(data=model_result_df,x='Model',y='TrainScore')\n",
    "    plt.title('Training Scores')\n",
    "    plt.show()"
   ]
  },
  {
   "cell_type": "code",
   "execution_count": null,
   "id": "6e34b53f",
   "metadata": {},
   "outputs": [
    {
     "name": "stderr",
     "output_type": "stream",
     "text": [
      "/home/faithful/Desktop/Data_Sci_Projects/Fraud_Detection/venv/lib/python3.8/site-packages/sklearn/linear_model/_logistic.py:763: ConvergenceWarning: lbfgs failed to converge (status=1):\n",
      "STOP: TOTAL NO. of ITERATIONS REACHED LIMIT.\n",
      "\n",
      "Increase the number of iterations (max_iter) or scale the data as shown in:\n",
      "    https://scikit-learn.org/stable/modules/preprocessing.html\n",
      "Please also refer to the documentation for alternative solver options:\n",
      "    https://scikit-learn.org/stable/modules/linear_model.html#logistic-regression\n",
      "  n_iter_i = _check_optimize_result(\n",
      "/home/faithful/Desktop/Data_Sci_Projects/Fraud_Detection/venv/lib/python3.8/site-packages/sklearn/linear_model/_logistic.py:763: ConvergenceWarning: lbfgs failed to converge (status=1):\n",
      "STOP: TOTAL NO. of ITERATIONS REACHED LIMIT.\n",
      "\n",
      "Increase the number of iterations (max_iter) or scale the data as shown in:\n",
      "    https://scikit-learn.org/stable/modules/preprocessing.html\n",
      "Please also refer to the documentation for alternative solver options:\n",
      "    https://scikit-learn.org/stable/modules/linear_model.html#logistic-regression\n",
      "  n_iter_i = _check_optimize_result(\n",
      "/home/faithful/Desktop/Data_Sci_Projects/Fraud_Detection/venv/lib/python3.8/site-packages/sklearn/linear_model/_logistic.py:763: ConvergenceWarning: lbfgs failed to converge (status=1):\n",
      "STOP: TOTAL NO. of ITERATIONS REACHED LIMIT.\n",
      "\n",
      "Increase the number of iterations (max_iter) or scale the data as shown in:\n",
      "    https://scikit-learn.org/stable/modules/preprocessing.html\n",
      "Please also refer to the documentation for alternative solver options:\n",
      "    https://scikit-learn.org/stable/modules/linear_model.html#logistic-regression\n",
      "  n_iter_i = _check_optimize_result(\n",
      "/home/faithful/Desktop/Data_Sci_Projects/Fraud_Detection/venv/lib/python3.8/site-packages/sklearn/linear_model/_logistic.py:763: ConvergenceWarning: lbfgs failed to converge (status=1):\n",
      "STOP: TOTAL NO. of ITERATIONS REACHED LIMIT.\n",
      "\n",
      "Increase the number of iterations (max_iter) or scale the data as shown in:\n",
      "    https://scikit-learn.org/stable/modules/preprocessing.html\n",
      "Please also refer to the documentation for alternative solver options:\n",
      "    https://scikit-learn.org/stable/modules/linear_model.html#logistic-regression\n",
      "  n_iter_i = _check_optimize_result(\n",
      "/home/faithful/Desktop/Data_Sci_Projects/Fraud_Detection/venv/lib/python3.8/site-packages/sklearn/linear_model/_logistic.py:763: ConvergenceWarning: lbfgs failed to converge (status=1):\n",
      "STOP: TOTAL NO. of ITERATIONS REACHED LIMIT.\n",
      "\n",
      "Increase the number of iterations (max_iter) or scale the data as shown in:\n",
      "    https://scikit-learn.org/stable/modules/preprocessing.html\n",
      "Please also refer to the documentation for alternative solver options:\n",
      "    https://scikit-learn.org/stable/modules/linear_model.html#logistic-regression\n",
      "  n_iter_i = _check_optimize_result(\n",
      "/home/faithful/Desktop/Data_Sci_Projects/Fraud_Detection/venv/lib/python3.8/site-packages/sklearn/linear_model/_logistic.py:763: ConvergenceWarning: lbfgs failed to converge (status=1):\n",
      "STOP: TOTAL NO. of ITERATIONS REACHED LIMIT.\n",
      "\n",
      "Increase the number of iterations (max_iter) or scale the data as shown in:\n",
      "    https://scikit-learn.org/stable/modules/preprocessing.html\n",
      "Please also refer to the documentation for alternative solver options:\n",
      "    https://scikit-learn.org/stable/modules/linear_model.html#logistic-regression\n",
      "  n_iter_i = _check_optimize_result(\n",
      "/home/faithful/Desktop/Data_Sci_Projects/Fraud_Detection/venv/lib/python3.8/site-packages/sklearn/linear_model/_logistic.py:763: ConvergenceWarning: lbfgs failed to converge (status=1):\n",
      "STOP: TOTAL NO. of ITERATIONS REACHED LIMIT.\n",
      "\n",
      "Increase the number of iterations (max_iter) or scale the data as shown in:\n",
      "    https://scikit-learn.org/stable/modules/preprocessing.html\n",
      "Please also refer to the documentation for alternative solver options:\n",
      "    https://scikit-learn.org/stable/modules/linear_model.html#logistic-regression\n",
      "  n_iter_i = _check_optimize_result(\n",
      "/home/faithful/Desktop/Data_Sci_Projects/Fraud_Detection/venv/lib/python3.8/site-packages/sklearn/linear_model/_logistic.py:763: ConvergenceWarning: lbfgs failed to converge (status=1):\n",
      "STOP: TOTAL NO. of ITERATIONS REACHED LIMIT.\n",
      "\n",
      "Increase the number of iterations (max_iter) or scale the data as shown in:\n",
      "    https://scikit-learn.org/stable/modules/preprocessing.html\n",
      "Please also refer to the documentation for alternative solver options:\n",
      "    https://scikit-learn.org/stable/modules/linear_model.html#logistic-regression\n",
      "  n_iter_i = _check_optimize_result(\n",
      "/home/faithful/Desktop/Data_Sci_Projects/Fraud_Detection/venv/lib/python3.8/site-packages/sklearn/linear_model/_logistic.py:763: ConvergenceWarning: lbfgs failed to converge (status=1):\n",
      "STOP: TOTAL NO. of ITERATIONS REACHED LIMIT.\n",
      "\n",
      "Increase the number of iterations (max_iter) or scale the data as shown in:\n",
      "    https://scikit-learn.org/stable/modules/preprocessing.html\n",
      "Please also refer to the documentation for alternative solver options:\n",
      "    https://scikit-learn.org/stable/modules/linear_model.html#logistic-regression\n",
      "  n_iter_i = _check_optimize_result(\n",
      "/home/faithful/Desktop/Data_Sci_Projects/Fraud_Detection/venv/lib/python3.8/site-packages/sklearn/linear_model/_logistic.py:763: ConvergenceWarning: lbfgs failed to converge (status=1):\n",
      "STOP: TOTAL NO. of ITERATIONS REACHED LIMIT.\n",
      "\n",
      "Increase the number of iterations (max_iter) or scale the data as shown in:\n",
      "    https://scikit-learn.org/stable/modules/preprocessing.html\n",
      "Please also refer to the documentation for alternative solver options:\n",
      "    https://scikit-learn.org/stable/modules/linear_model.html#logistic-regression\n",
      "  n_iter_i = _check_optimize_result(\n",
      "/home/faithful/Desktop/Data_Sci_Projects/Fraud_Detection/venv/lib/python3.8/site-packages/xgboost/sklearn.py:1146: UserWarning: The use of label encoder in XGBClassifier is deprecated and will be removed in a future release. To remove this warning, do the following: 1) Pass option use_label_encoder=False when constructing XGBClassifier object; and 2) Encode your labels (y) as integers starting with 0, i.e. 0, 1, 2, ..., [num_class - 1].\n",
      "  warnings.warn(label_encoder_deprecation_msg, UserWarning)\n"
     ]
    },
    {
     "name": "stdout",
     "output_type": "stream",
     "text": [
      "[00:08:37] WARNING: ../src/learner.cc:1095: Starting in XGBoost 1.3.0, the default evaluation metric used with the objective 'binary:logistic' was changed from 'error' to 'logloss'. Explicitly set eval_metric if you'd like to restore the old behavior.\n"
     ]
    },
    {
     "name": "stderr",
     "output_type": "stream",
     "text": [
      "/home/faithful/Desktop/Data_Sci_Projects/Fraud_Detection/venv/lib/python3.8/site-packages/xgboost/sklearn.py:1146: UserWarning: The use of label encoder in XGBClassifier is deprecated and will be removed in a future release. To remove this warning, do the following: 1) Pass option use_label_encoder=False when constructing XGBClassifier object; and 2) Encode your labels (y) as integers starting with 0, i.e. 0, 1, 2, ..., [num_class - 1].\n",
      "  warnings.warn(label_encoder_deprecation_msg, UserWarning)\n"
     ]
    },
    {
     "name": "stdout",
     "output_type": "stream",
     "text": [
      "[00:09:26] WARNING: ../src/learner.cc:1095: Starting in XGBoost 1.3.0, the default evaluation metric used with the objective 'binary:logistic' was changed from 'error' to 'logloss'. Explicitly set eval_metric if you'd like to restore the old behavior.\n"
     ]
    },
    {
     "name": "stderr",
     "output_type": "stream",
     "text": [
      "/home/faithful/Desktop/Data_Sci_Projects/Fraud_Detection/venv/lib/python3.8/site-packages/xgboost/sklearn.py:1146: UserWarning: The use of label encoder in XGBClassifier is deprecated and will be removed in a future release. To remove this warning, do the following: 1) Pass option use_label_encoder=False when constructing XGBClassifier object; and 2) Encode your labels (y) as integers starting with 0, i.e. 0, 1, 2, ..., [num_class - 1].\n",
      "  warnings.warn(label_encoder_deprecation_msg, UserWarning)\n"
     ]
    },
    {
     "name": "stdout",
     "output_type": "stream",
     "text": [
      "[00:10:15] WARNING: ../src/learner.cc:1095: Starting in XGBoost 1.3.0, the default evaluation metric used with the objective 'binary:logistic' was changed from 'error' to 'logloss'. Explicitly set eval_metric if you'd like to restore the old behavior.\n"
     ]
    },
    {
     "name": "stderr",
     "output_type": "stream",
     "text": [
      "/home/faithful/Desktop/Data_Sci_Projects/Fraud_Detection/venv/lib/python3.8/site-packages/xgboost/sklearn.py:1146: UserWarning: The use of label encoder in XGBClassifier is deprecated and will be removed in a future release. To remove this warning, do the following: 1) Pass option use_label_encoder=False when constructing XGBClassifier object; and 2) Encode your labels (y) as integers starting with 0, i.e. 0, 1, 2, ..., [num_class - 1].\n",
      "  warnings.warn(label_encoder_deprecation_msg, UserWarning)\n"
     ]
    },
    {
     "name": "stdout",
     "output_type": "stream",
     "text": [
      "[00:11:04] WARNING: ../src/learner.cc:1095: Starting in XGBoost 1.3.0, the default evaluation metric used with the objective 'binary:logistic' was changed from 'error' to 'logloss'. Explicitly set eval_metric if you'd like to restore the old behavior.\n"
     ]
    },
    {
     "name": "stderr",
     "output_type": "stream",
     "text": [
      "/home/faithful/Desktop/Data_Sci_Projects/Fraud_Detection/venv/lib/python3.8/site-packages/xgboost/sklearn.py:1146: UserWarning: The use of label encoder in XGBClassifier is deprecated and will be removed in a future release. To remove this warning, do the following: 1) Pass option use_label_encoder=False when constructing XGBClassifier object; and 2) Encode your labels (y) as integers starting with 0, i.e. 0, 1, 2, ..., [num_class - 1].\n",
      "  warnings.warn(label_encoder_deprecation_msg, UserWarning)\n"
     ]
    },
    {
     "name": "stdout",
     "output_type": "stream",
     "text": [
      "[00:11:54] WARNING: ../src/learner.cc:1095: Starting in XGBoost 1.3.0, the default evaluation metric used with the objective 'binary:logistic' was changed from 'error' to 'logloss'. Explicitly set eval_metric if you'd like to restore the old behavior.\n"
     ]
    },
    {
     "name": "stderr",
     "output_type": "stream",
     "text": [
      "/home/faithful/Desktop/Data_Sci_Projects/Fraud_Detection/venv/lib/python3.8/site-packages/xgboost/sklearn.py:1146: UserWarning: The use of label encoder in XGBClassifier is deprecated and will be removed in a future release. To remove this warning, do the following: 1) Pass option use_label_encoder=False when constructing XGBClassifier object; and 2) Encode your labels (y) as integers starting with 0, i.e. 0, 1, 2, ..., [num_class - 1].\n",
      "  warnings.warn(label_encoder_deprecation_msg, UserWarning)\n"
     ]
    },
    {
     "name": "stdout",
     "output_type": "stream",
     "text": [
      "[00:12:44] WARNING: ../src/learner.cc:1095: Starting in XGBoost 1.3.0, the default evaluation metric used with the objective 'binary:logistic' was changed from 'error' to 'logloss'. Explicitly set eval_metric if you'd like to restore the old behavior.\n"
     ]
    },
    {
     "name": "stderr",
     "output_type": "stream",
     "text": [
      "/home/faithful/Desktop/Data_Sci_Projects/Fraud_Detection/venv/lib/python3.8/site-packages/xgboost/sklearn.py:1146: UserWarning: The use of label encoder in XGBClassifier is deprecated and will be removed in a future release. To remove this warning, do the following: 1) Pass option use_label_encoder=False when constructing XGBClassifier object; and 2) Encode your labels (y) as integers starting with 0, i.e. 0, 1, 2, ..., [num_class - 1].\n",
      "  warnings.warn(label_encoder_deprecation_msg, UserWarning)\n"
     ]
    },
    {
     "name": "stdout",
     "output_type": "stream",
     "text": [
      "[00:13:34] WARNING: ../src/learner.cc:1095: Starting in XGBoost 1.3.0, the default evaluation metric used with the objective 'binary:logistic' was changed from 'error' to 'logloss'. Explicitly set eval_metric if you'd like to restore the old behavior.\n"
     ]
    },
    {
     "name": "stderr",
     "output_type": "stream",
     "text": [
      "/home/faithful/Desktop/Data_Sci_Projects/Fraud_Detection/venv/lib/python3.8/site-packages/xgboost/sklearn.py:1146: UserWarning: The use of label encoder in XGBClassifier is deprecated and will be removed in a future release. To remove this warning, do the following: 1) Pass option use_label_encoder=False when constructing XGBClassifier object; and 2) Encode your labels (y) as integers starting with 0, i.e. 0, 1, 2, ..., [num_class - 1].\n",
      "  warnings.warn(label_encoder_deprecation_msg, UserWarning)\n"
     ]
    },
    {
     "name": "stdout",
     "output_type": "stream",
     "text": [
      "[00:14:22] WARNING: ../src/learner.cc:1095: Starting in XGBoost 1.3.0, the default evaluation metric used with the objective 'binary:logistic' was changed from 'error' to 'logloss'. Explicitly set eval_metric if you'd like to restore the old behavior.\n"
     ]
    },
    {
     "name": "stderr",
     "output_type": "stream",
     "text": [
      "/home/faithful/Desktop/Data_Sci_Projects/Fraud_Detection/venv/lib/python3.8/site-packages/xgboost/sklearn.py:1146: UserWarning: The use of label encoder in XGBClassifier is deprecated and will be removed in a future release. To remove this warning, do the following: 1) Pass option use_label_encoder=False when constructing XGBClassifier object; and 2) Encode your labels (y) as integers starting with 0, i.e. 0, 1, 2, ..., [num_class - 1].\n",
      "  warnings.warn(label_encoder_deprecation_msg, UserWarning)\n"
     ]
    },
    {
     "name": "stdout",
     "output_type": "stream",
     "text": [
      "[00:15:10] WARNING: ../src/learner.cc:1095: Starting in XGBoost 1.3.0, the default evaluation metric used with the objective 'binary:logistic' was changed from 'error' to 'logloss'. Explicitly set eval_metric if you'd like to restore the old behavior.\n"
     ]
    },
    {
     "name": "stderr",
     "output_type": "stream",
     "text": [
      "/home/faithful/Desktop/Data_Sci_Projects/Fraud_Detection/venv/lib/python3.8/site-packages/xgboost/sklearn.py:1146: UserWarning: The use of label encoder in XGBClassifier is deprecated and will be removed in a future release. To remove this warning, do the following: 1) Pass option use_label_encoder=False when constructing XGBClassifier object; and 2) Encode your labels (y) as integers starting with 0, i.e. 0, 1, 2, ..., [num_class - 1].\n",
      "  warnings.warn(label_encoder_deprecation_msg, UserWarning)\n"
     ]
    },
    {
     "name": "stdout",
     "output_type": "stream",
     "text": [
      "[00:15:58] WARNING: ../src/learner.cc:1095: Starting in XGBoost 1.3.0, the default evaluation metric used with the objective 'binary:logistic' was changed from 'error' to 'logloss'. Explicitly set eval_metric if you'd like to restore the old behavior.\n"
     ]
    }
   ],
   "source": [
    "show_model_scores(X_train_new,y_train_new)"
   ]
  },
  {
   "cell_type": "code",
   "execution_count": null,
   "id": "5a29fc51",
   "metadata": {},
   "outputs": [],
   "source": []
  },
  {
   "cell_type": "code",
   "execution_count": null,
   "id": "306ede0f",
   "metadata": {},
   "outputs": [],
   "source": []
  },
  {
   "cell_type": "code",
   "execution_count": null,
   "id": "727acf72",
   "metadata": {},
   "outputs": [],
   "source": []
  },
  {
   "cell_type": "code",
   "execution_count": null,
   "id": "df2359a6",
   "metadata": {},
   "outputs": [],
   "source": []
  },
  {
   "cell_type": "code",
   "execution_count": null,
   "id": "9771c93a",
   "metadata": {},
   "outputs": [],
   "source": []
  },
  {
   "cell_type": "code",
   "execution_count": null,
   "id": "e4ec816b",
   "metadata": {},
   "outputs": [],
   "source": []
  }
 ],
 "metadata": {
  "kernelspec": {
   "display_name": "Python 3 (ipykernel)",
   "language": "python",
   "name": "python3"
  },
  "language_info": {
   "codemirror_mode": {
    "name": "ipython",
    "version": 3
   },
   "file_extension": ".py",
   "mimetype": "text/x-python",
   "name": "python",
   "nbconvert_exporter": "python",
   "pygments_lexer": "ipython3",
   "version": "3.8.10"
  }
 },
 "nbformat": 4,
 "nbformat_minor": 5
}
