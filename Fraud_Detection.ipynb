{
 "cells": [
  {
   "cell_type": "code",
   "execution_count": 35,
   "id": "e78ffcfb",
   "metadata": {},
   "outputs": [],
   "source": [
    "# packages for data loading, data analysis, and data preparation\n",
    "import numpy as np\n",
    "import pandas as pd\n",
    "import matplotlib.pyplot as plt\n",
    "import seaborn as sns \n",
    "from sklearn.preprocessing import StandardScaler\n",
    "from sklearn.utils import resample\n",
    "\n",
    "# packages for modek evaluation and classification models\n",
    "from sklearn.model_selection import train_test_split,KFold,cross_val_score,GridSearchCV,RandomizedSearchCV\n",
    "from sklearn.linear_model import LogisticRegression\n",
    "from sklearn.tree import DecisionTreeClassifier\n",
    "from sklearn.neighbors import KNeighborsClassifier\n",
    "from sklearn.svm import SVC\n",
    "from xgboost import XGBClassifier\n",
    "from sklearn.pipeline import Pipeline\n",
    "from sklearn.ensemble import AdaBoostClassifier,RandomForestClassifier,ExtraTreesClassifier\n",
    "from sklearn.metrics import classification_report,confusion_matrix,accuracy_score,plot_confusion_matrix\n",
    "from tqdm import tqdm\n",
    "\n",
    "# packages for saving the model\n",
    "import pickle \n",
    "\n",
    "# script that has modeling functions in it\n",
    "import modeling"
   ]
  },
  {
   "cell_type": "code",
   "execution_count": 2,
   "id": "f1a22066",
   "metadata": {},
   "outputs": [],
   "source": [
    "# reads in the data \n",
    "df = pd.read_csv('creditcard.csv')"
   ]
  },
  {
   "cell_type": "code",
   "execution_count": 3,
   "id": "a01dc0c9",
   "metadata": {},
   "outputs": [
    {
     "data": {
      "text/html": [
       "<div>\n",
       "<style scoped>\n",
       "    .dataframe tbody tr th:only-of-type {\n",
       "        vertical-align: middle;\n",
       "    }\n",
       "\n",
       "    .dataframe tbody tr th {\n",
       "        vertical-align: top;\n",
       "    }\n",
       "\n",
       "    .dataframe thead th {\n",
       "        text-align: right;\n",
       "    }\n",
       "</style>\n",
       "<table border=\"1\" class=\"dataframe\">\n",
       "  <thead>\n",
       "    <tr style=\"text-align: right;\">\n",
       "      <th></th>\n",
       "      <th>Time</th>\n",
       "      <th>V1</th>\n",
       "      <th>V2</th>\n",
       "      <th>V3</th>\n",
       "      <th>V4</th>\n",
       "      <th>V5</th>\n",
       "      <th>V6</th>\n",
       "      <th>V7</th>\n",
       "      <th>V8</th>\n",
       "      <th>V9</th>\n",
       "      <th>...</th>\n",
       "      <th>V21</th>\n",
       "      <th>V22</th>\n",
       "      <th>V23</th>\n",
       "      <th>V24</th>\n",
       "      <th>V25</th>\n",
       "      <th>V26</th>\n",
       "      <th>V27</th>\n",
       "      <th>V28</th>\n",
       "      <th>Amount</th>\n",
       "      <th>Class</th>\n",
       "    </tr>\n",
       "  </thead>\n",
       "  <tbody>\n",
       "    <tr>\n",
       "      <th>126135</th>\n",
       "      <td>77943.0</td>\n",
       "      <td>-1.895630</td>\n",
       "      <td>2.261402</td>\n",
       "      <td>0.097307</td>\n",
       "      <td>-0.708852</td>\n",
       "      <td>0.367071</td>\n",
       "      <td>-0.103140</td>\n",
       "      <td>0.562780</td>\n",
       "      <td>0.189176</td>\n",
       "      <td>0.685210</td>\n",
       "      <td>...</td>\n",
       "      <td>-0.497839</td>\n",
       "      <td>-0.902894</td>\n",
       "      <td>-0.091001</td>\n",
       "      <td>-0.915946</td>\n",
       "      <td>0.347413</td>\n",
       "      <td>0.157523</td>\n",
       "      <td>0.962466</td>\n",
       "      <td>0.553191</td>\n",
       "      <td>7.16</td>\n",
       "      <td>0</td>\n",
       "    </tr>\n",
       "    <tr>\n",
       "      <th>70374</th>\n",
       "      <td>53842.0</td>\n",
       "      <td>-0.774304</td>\n",
       "      <td>0.474838</td>\n",
       "      <td>1.081765</td>\n",
       "      <td>0.244956</td>\n",
       "      <td>0.553250</td>\n",
       "      <td>-1.210144</td>\n",
       "      <td>0.823532</td>\n",
       "      <td>-0.204972</td>\n",
       "      <td>-0.321314</td>\n",
       "      <td>...</td>\n",
       "      <td>0.118812</td>\n",
       "      <td>0.390432</td>\n",
       "      <td>0.222695</td>\n",
       "      <td>0.375995</td>\n",
       "      <td>0.088613</td>\n",
       "      <td>-0.540104</td>\n",
       "      <td>-0.019961</td>\n",
       "      <td>0.034821</td>\n",
       "      <td>14.38</td>\n",
       "      <td>0</td>\n",
       "    </tr>\n",
       "    <tr>\n",
       "      <th>98800</th>\n",
       "      <td>66822.0</td>\n",
       "      <td>1.165907</td>\n",
       "      <td>-0.810112</td>\n",
       "      <td>0.517535</td>\n",
       "      <td>0.359200</td>\n",
       "      <td>-0.964412</td>\n",
       "      <td>0.385570</td>\n",
       "      <td>-0.834759</td>\n",
       "      <td>0.206140</td>\n",
       "      <td>-0.483048</td>\n",
       "      <td>...</td>\n",
       "      <td>-0.213116</td>\n",
       "      <td>-0.226400</td>\n",
       "      <td>-0.219571</td>\n",
       "      <td>-0.544798</td>\n",
       "      <td>0.539442</td>\n",
       "      <td>-0.192499</td>\n",
       "      <td>0.051703</td>\n",
       "      <td>0.026178</td>\n",
       "      <td>83.50</td>\n",
       "      <td>0</td>\n",
       "    </tr>\n",
       "    <tr>\n",
       "      <th>145308</th>\n",
       "      <td>86823.0</td>\n",
       "      <td>-0.004356</td>\n",
       "      <td>1.048543</td>\n",
       "      <td>-0.473675</td>\n",
       "      <td>-0.551370</td>\n",
       "      <td>0.876599</td>\n",
       "      <td>-0.803703</td>\n",
       "      <td>1.008385</td>\n",
       "      <td>-0.153914</td>\n",
       "      <td>0.021996</td>\n",
       "      <td>...</td>\n",
       "      <td>-0.324790</td>\n",
       "      <td>-0.842534</td>\n",
       "      <td>0.114217</td>\n",
       "      <td>0.558377</td>\n",
       "      <td>-0.425875</td>\n",
       "      <td>0.100977</td>\n",
       "      <td>0.087668</td>\n",
       "      <td>0.086733</td>\n",
       "      <td>17.88</td>\n",
       "      <td>0</td>\n",
       "    </tr>\n",
       "    <tr>\n",
       "      <th>191311</th>\n",
       "      <td>129203.0</td>\n",
       "      <td>1.952162</td>\n",
       "      <td>-0.803054</td>\n",
       "      <td>0.140147</td>\n",
       "      <td>0.907536</td>\n",
       "      <td>-1.708890</td>\n",
       "      <td>-1.057737</td>\n",
       "      <td>-0.942789</td>\n",
       "      <td>-0.051406</td>\n",
       "      <td>0.044103</td>\n",
       "      <td>...</td>\n",
       "      <td>-0.081425</td>\n",
       "      <td>0.245249</td>\n",
       "      <td>0.326461</td>\n",
       "      <td>0.827434</td>\n",
       "      <td>-0.385543</td>\n",
       "      <td>-0.614684</td>\n",
       "      <td>0.067995</td>\n",
       "      <td>-0.014744</td>\n",
       "      <td>34.00</td>\n",
       "      <td>0</td>\n",
       "    </tr>\n",
       "    <tr>\n",
       "      <th>169391</th>\n",
       "      <td>119676.0</td>\n",
       "      <td>0.026504</td>\n",
       "      <td>0.751439</td>\n",
       "      <td>0.163797</td>\n",
       "      <td>-0.769145</td>\n",
       "      <td>0.543600</td>\n",
       "      <td>-0.636805</td>\n",
       "      <td>0.845839</td>\n",
       "      <td>0.007657</td>\n",
       "      <td>-0.154895</td>\n",
       "      <td>...</td>\n",
       "      <td>-0.240132</td>\n",
       "      <td>-0.586352</td>\n",
       "      <td>0.025790</td>\n",
       "      <td>-0.365830</td>\n",
       "      <td>-0.505547</td>\n",
       "      <td>0.143482</td>\n",
       "      <td>0.237768</td>\n",
       "      <td>0.082083</td>\n",
       "      <td>2.58</td>\n",
       "      <td>0</td>\n",
       "    </tr>\n",
       "    <tr>\n",
       "      <th>158213</th>\n",
       "      <td>111092.0</td>\n",
       "      <td>2.102774</td>\n",
       "      <td>-0.059340</td>\n",
       "      <td>-1.464467</td>\n",
       "      <td>0.340277</td>\n",
       "      <td>0.239854</td>\n",
       "      <td>-0.761355</td>\n",
       "      <td>-0.062052</td>\n",
       "      <td>-0.249493</td>\n",
       "      <td>2.343160</td>\n",
       "      <td>...</td>\n",
       "      <td>0.073683</td>\n",
       "      <td>0.516901</td>\n",
       "      <td>0.013415</td>\n",
       "      <td>0.384170</td>\n",
       "      <td>0.302621</td>\n",
       "      <td>-0.469027</td>\n",
       "      <td>-0.035891</td>\n",
       "      <td>-0.060231</td>\n",
       "      <td>1.00</td>\n",
       "      <td>0</td>\n",
       "    </tr>\n",
       "    <tr>\n",
       "      <th>256676</th>\n",
       "      <td>157804.0</td>\n",
       "      <td>1.930140</td>\n",
       "      <td>-0.196311</td>\n",
       "      <td>-0.598804</td>\n",
       "      <td>1.249804</td>\n",
       "      <td>0.139400</td>\n",
       "      <td>0.717819</td>\n",
       "      <td>-0.412329</td>\n",
       "      <td>0.255383</td>\n",
       "      <td>0.918404</td>\n",
       "      <td>...</td>\n",
       "      <td>-0.502995</td>\n",
       "      <td>-1.202188</td>\n",
       "      <td>0.412910</td>\n",
       "      <td>0.137595</td>\n",
       "      <td>-0.279299</td>\n",
       "      <td>-1.125546</td>\n",
       "      <td>0.049843</td>\n",
       "      <td>-0.038708</td>\n",
       "      <td>4.99</td>\n",
       "      <td>0</td>\n",
       "    </tr>\n",
       "    <tr>\n",
       "      <th>46841</th>\n",
       "      <td>42951.0</td>\n",
       "      <td>-23.712839</td>\n",
       "      <td>-42.172688</td>\n",
       "      <td>-13.320825</td>\n",
       "      <td>9.925019</td>\n",
       "      <td>-13.945538</td>\n",
       "      <td>5.564891</td>\n",
       "      <td>15.710644</td>\n",
       "      <td>-2.844253</td>\n",
       "      <td>-1.580725</td>\n",
       "      <td>...</td>\n",
       "      <td>7.921600</td>\n",
       "      <td>-6.320710</td>\n",
       "      <td>-11.310338</td>\n",
       "      <td>0.404175</td>\n",
       "      <td>-4.547278</td>\n",
       "      <td>-1.577118</td>\n",
       "      <td>-2.357385</td>\n",
       "      <td>2.253662</td>\n",
       "      <td>12910.93</td>\n",
       "      <td>0</td>\n",
       "    </tr>\n",
       "    <tr>\n",
       "      <th>77129</th>\n",
       "      <td>56899.0</td>\n",
       "      <td>-2.316531</td>\n",
       "      <td>-3.146354</td>\n",
       "      <td>1.372775</td>\n",
       "      <td>-1.220623</td>\n",
       "      <td>1.700094</td>\n",
       "      <td>-2.085858</td>\n",
       "      <td>-1.587104</td>\n",
       "      <td>0.432952</td>\n",
       "      <td>1.709063</td>\n",
       "      <td>...</td>\n",
       "      <td>0.180832</td>\n",
       "      <td>-0.212824</td>\n",
       "      <td>0.812619</td>\n",
       "      <td>0.173380</td>\n",
       "      <td>-0.494081</td>\n",
       "      <td>-0.985215</td>\n",
       "      <td>0.128408</td>\n",
       "      <td>0.228073</td>\n",
       "      <td>99.00</td>\n",
       "      <td>0</td>\n",
       "    </tr>\n",
       "  </tbody>\n",
       "</table>\n",
       "<p>10 rows × 31 columns</p>\n",
       "</div>"
      ],
      "text/plain": [
       "            Time         V1         V2         V3        V4         V5  \\\n",
       "126135   77943.0  -1.895630   2.261402   0.097307 -0.708852   0.367071   \n",
       "70374    53842.0  -0.774304   0.474838   1.081765  0.244956   0.553250   \n",
       "98800    66822.0   1.165907  -0.810112   0.517535  0.359200  -0.964412   \n",
       "145308   86823.0  -0.004356   1.048543  -0.473675 -0.551370   0.876599   \n",
       "191311  129203.0   1.952162  -0.803054   0.140147  0.907536  -1.708890   \n",
       "169391  119676.0   0.026504   0.751439   0.163797 -0.769145   0.543600   \n",
       "158213  111092.0   2.102774  -0.059340  -1.464467  0.340277   0.239854   \n",
       "256676  157804.0   1.930140  -0.196311  -0.598804  1.249804   0.139400   \n",
       "46841    42951.0 -23.712839 -42.172688 -13.320825  9.925019 -13.945538   \n",
       "77129    56899.0  -2.316531  -3.146354   1.372775 -1.220623   1.700094   \n",
       "\n",
       "              V6         V7        V8        V9  ...       V21       V22  \\\n",
       "126135 -0.103140   0.562780  0.189176  0.685210  ... -0.497839 -0.902894   \n",
       "70374  -1.210144   0.823532 -0.204972 -0.321314  ...  0.118812  0.390432   \n",
       "98800   0.385570  -0.834759  0.206140 -0.483048  ... -0.213116 -0.226400   \n",
       "145308 -0.803703   1.008385 -0.153914  0.021996  ... -0.324790 -0.842534   \n",
       "191311 -1.057737  -0.942789 -0.051406  0.044103  ... -0.081425  0.245249   \n",
       "169391 -0.636805   0.845839  0.007657 -0.154895  ... -0.240132 -0.586352   \n",
       "158213 -0.761355  -0.062052 -0.249493  2.343160  ...  0.073683  0.516901   \n",
       "256676  0.717819  -0.412329  0.255383  0.918404  ... -0.502995 -1.202188   \n",
       "46841   5.564891  15.710644 -2.844253 -1.580725  ...  7.921600 -6.320710   \n",
       "77129  -2.085858  -1.587104  0.432952  1.709063  ...  0.180832 -0.212824   \n",
       "\n",
       "              V23       V24       V25       V26       V27       V28    Amount  \\\n",
       "126135  -0.091001 -0.915946  0.347413  0.157523  0.962466  0.553191      7.16   \n",
       "70374    0.222695  0.375995  0.088613 -0.540104 -0.019961  0.034821     14.38   \n",
       "98800   -0.219571 -0.544798  0.539442 -0.192499  0.051703  0.026178     83.50   \n",
       "145308   0.114217  0.558377 -0.425875  0.100977  0.087668  0.086733     17.88   \n",
       "191311   0.326461  0.827434 -0.385543 -0.614684  0.067995 -0.014744     34.00   \n",
       "169391   0.025790 -0.365830 -0.505547  0.143482  0.237768  0.082083      2.58   \n",
       "158213   0.013415  0.384170  0.302621 -0.469027 -0.035891 -0.060231      1.00   \n",
       "256676   0.412910  0.137595 -0.279299 -1.125546  0.049843 -0.038708      4.99   \n",
       "46841  -11.310338  0.404175 -4.547278 -1.577118 -2.357385  2.253662  12910.93   \n",
       "77129    0.812619  0.173380 -0.494081 -0.985215  0.128408  0.228073     99.00   \n",
       "\n",
       "        Class  \n",
       "126135      0  \n",
       "70374       0  \n",
       "98800       0  \n",
       "145308      0  \n",
       "191311      0  \n",
       "169391      0  \n",
       "158213      0  \n",
       "256676      0  \n",
       "46841       0  \n",
       "77129       0  \n",
       "\n",
       "[10 rows x 31 columns]"
      ]
     },
     "execution_count": 3,
     "metadata": {},
     "output_type": "execute_result"
    }
   ],
   "source": [
    "# looks at 10 random rows in the data\n",
    "df.sample(10)"
   ]
  },
  {
   "cell_type": "code",
   "execution_count": 4,
   "id": "6d1029e9",
   "metadata": {},
   "outputs": [
    {
     "name": "stdout",
     "output_type": "stream",
     "text": [
      "<class 'pandas.core.frame.DataFrame'>\n",
      "RangeIndex: 284807 entries, 0 to 284806\n",
      "Data columns (total 31 columns):\n",
      " #   Column  Non-Null Count   Dtype  \n",
      "---  ------  --------------   -----  \n",
      " 0   Time    284807 non-null  float64\n",
      " 1   V1      284807 non-null  float64\n",
      " 2   V2      284807 non-null  float64\n",
      " 3   V3      284807 non-null  float64\n",
      " 4   V4      284807 non-null  float64\n",
      " 5   V5      284807 non-null  float64\n",
      " 6   V6      284807 non-null  float64\n",
      " 7   V7      284807 non-null  float64\n",
      " 8   V8      284807 non-null  float64\n",
      " 9   V9      284807 non-null  float64\n",
      " 10  V10     284807 non-null  float64\n",
      " 11  V11     284807 non-null  float64\n",
      " 12  V12     284807 non-null  float64\n",
      " 13  V13     284807 non-null  float64\n",
      " 14  V14     284807 non-null  float64\n",
      " 15  V15     284807 non-null  float64\n",
      " 16  V16     284807 non-null  float64\n",
      " 17  V17     284807 non-null  float64\n",
      " 18  V18     284807 non-null  float64\n",
      " 19  V19     284807 non-null  float64\n",
      " 20  V20     284807 non-null  float64\n",
      " 21  V21     284807 non-null  float64\n",
      " 22  V22     284807 non-null  float64\n",
      " 23  V23     284807 non-null  float64\n",
      " 24  V24     284807 non-null  float64\n",
      " 25  V25     284807 non-null  float64\n",
      " 26  V26     284807 non-null  float64\n",
      " 27  V27     284807 non-null  float64\n",
      " 28  V28     284807 non-null  float64\n",
      " 29  Amount  284807 non-null  float64\n",
      " 30  Class   284807 non-null  int64  \n",
      "dtypes: float64(30), int64(1)\n",
      "memory usage: 67.4 MB\n"
     ]
    }
   ],
   "source": [
    "# returns each columns name, quantity, and data type \n",
    "df.info()"
   ]
  },
  {
   "cell_type": "code",
   "execution_count": 31,
   "id": "0d309a26",
   "metadata": {},
   "outputs": [
    {
     "data": {
      "text/plain": [
       "V17      -0.326481\n",
       "V14      -0.302544\n",
       "V12      -0.260593\n",
       "V10      -0.216883\n",
       "V16      -0.196539\n",
       "V3       -0.192961\n",
       "V7       -0.187257\n",
       "V18      -0.111485\n",
       "V1       -0.101347\n",
       "V9       -0.097733\n",
       "V5       -0.094974\n",
       "V6       -0.043643\n",
       "Time     -0.012323\n",
       "V24      -0.007221\n",
       "V13      -0.004570\n",
       "V15      -0.004223\n",
       "V23      -0.002685\n",
       "V22       0.000805\n",
       "V25       0.003308\n",
       "V26       0.004455\n",
       "Amount    0.005632\n",
       "V28       0.009536\n",
       "V27       0.017580\n",
       "V8        0.019875\n",
       "V20       0.020090\n",
       "V19       0.034783\n",
       "V21       0.040413\n",
       "V2        0.091289\n",
       "V4        0.133447\n",
       "V11       0.154876\n",
       "Class     1.000000\n",
       "Name: Class, dtype: float64"
      ]
     },
     "execution_count": 31,
     "metadata": {},
     "output_type": "execute_result"
    }
   ],
   "source": [
    "# returns an arranged correlation associated with the class column\n",
    "df.corr()['Class'].sort_values()"
   ]
  },
  {
   "cell_type": "code",
   "execution_count": 5,
   "id": "810da50e",
   "metadata": {},
   "outputs": [
    {
     "data": {
      "text/plain": [
       "No Fraud    284315\n",
       "Fraud          492\n",
       "Name: Class, dtype: int64"
      ]
     },
     "execution_count": 5,
     "metadata": {},
     "output_type": "execute_result"
    }
   ],
   "source": [
    "# quantify Fraud and None Fraud\n",
    "class_name ={0:'No Fraud',1:'Fraud'}\n",
    "df['Class'].value_counts().rename(index=class_name)"
   ]
  },
  {
   "cell_type": "code",
   "execution_count": 6,
   "id": "fa57a869",
   "metadata": {},
   "outputs": [
    {
     "name": "stderr",
     "output_type": "stream",
     "text": [
      "/Users/faithful/Desktop/Data_Sci_Projects/Fraud_Detection/venv/lib/python3.7/site-packages/seaborn/_decorators.py:43: FutureWarning: Pass the following variable as a keyword arg: x. From version 0.12, the only valid positional argument will be `data`, and passing other arguments without an explicit keyword will result in an error or misinterpretation.\n",
      "  FutureWarning\n"
     ]
    },
    {
     "data": {
      "text/plain": [
       "<Figure size 432x288 with 0 Axes>"
      ]
     },
     "metadata": {},
     "output_type": "display_data"
    },
    {
     "data": {
      "image/png": "[encoded data removed]",
      "text/plain": [
       "<Figure size 1500x1200 with 1 Axes>"
      ]
     },
     "metadata": {},
     "output_type": "display_data"
    }
   ],
   "source": [
    "# visualize the imbalance in the dataset\n",
    "colors = [\"g\", \"r\"]\n",
    "plt.figure(figsize=(6, 4))\n",
    "sns.set_style('whitegrid')\n",
    "\n",
    "x = df['Class'].replace(to_replace=[1, 0], value=['Fraud','No Fraud'])\n",
    "plt.figure(figsize=(10,8),dpi=150)\n",
    "ax = sns.countplot(x,palette=colors,data=df)\n",
    "for p in ax.patches:\n",
    "    height = p.get_height()\n",
    "    ax.text(x=p.get_x() + p.get_width() / 2, y=height+.10,\n",
    "    s=\"{}\".format(round(height,2)),ha='center')\n",
    "plt.title('Imbalanced Counts of Fraud & No Fraud')\n",
    "plt.savefig('Imbalanced_plot_of_data')\n",
    "plt.show()"
   ]
  },
  {
   "cell_type": "code",
   "execution_count": 7,
   "id": "0a6e716b",
   "metadata": {},
   "outputs": [],
   "source": [
    "# splits the data into train test split, creates test size & random seed\n",
    "X = df.drop('Class',axis=1)\n",
    "y = df['Class']\n",
    "validation_size = 0.2\n",
    "seed = 7\n",
    "X_train, X_test, y_train, y_test = train_test_split(X, y, test_size=validation_size, random_state=seed)"
   ]
  },
  {
   "cell_type": "code",
   "execution_count": 8,
   "id": "0b4a007f",
   "metadata": {},
   "outputs": [
    {
     "data": {
      "text/plain": [
       "No Fraud    227453\n",
       "Fraud       227453\n",
       "Name: Class, dtype: int64"
      ]
     },
     "execution_count": 8,
     "metadata": {},
     "output_type": "execute_result"
    }
   ],
   "source": [
    "# concatenate our training data back together\n",
    "data = pd.concat([X_train,y_train],axis=1)\n",
    "\n",
    "#separate minority and majority classes\n",
    "no_fraud = data[data['Class']==0]\n",
    "fraud = data[data['Class']== 1]\n",
    "\n",
    "# unsample minority\n",
    "fraud_upsampled = resample(fraud,\n",
    "                          replace=True, # sample with replacement\n",
    "                          n_samples=len(no_fraud), # match number in majority class\n",
    "                          random_state=42) \n",
    "# combines majority and unsampled minority\n",
    "unsampled = pd.concat([no_fraud,fraud_upsampled])\n",
    "\n",
    "# resplitting the data\n",
    "y_train_new = unsampled['Class']\n",
    "X_train_new = unsampled.drop('Class',axis=1)\n",
    "y_train_new.value_counts().rename(index=class_name)"
   ]
  },
  {
   "cell_type": "code",
   "execution_count": 9,
   "id": "5e02cd77",
   "metadata": {},
   "outputs": [
    {
     "name": "stderr",
     "output_type": "stream",
     "text": [
      "/Users/faithful/Desktop/Data_Sci_Projects/Fraud_Detection/venv/lib/python3.7/site-packages/seaborn/_decorators.py:43: FutureWarning: Pass the following variable as a keyword arg: x. From version 0.12, the only valid positional argument will be `data`, and passing other arguments without an explicit keyword will result in an error or misinterpretation.\n",
      "  FutureWarning\n"
     ]
    },
    {
     "data": {
      "image/png": "[encoded data removed]",
      "text/plain": [
       "<Figure size 1500x1200 with 1 Axes>"
      ]
     },
     "metadata": {},
     "output_type": "display_data"
    }
   ],
   "source": [
    "# visualize the new balanced dataset \n",
    "plt.figure(figsize=(10,8),dpi=150)\n",
    "x = unsampled['Class'].replace(to_replace=[1, 0], value=['Fraud','No Fraud'])\n",
    "ax = sns.countplot( x,data=unsampled,palette=colors)\n",
    "for p in ax.patches:\n",
    "    height = p.get_height()\n",
    "    ax.text(x=p.get_x() + p.get_width() / 2, y=height+.10,\n",
    "    s=\"{}\".format(round(height,2)),ha='center')\n",
    "plt.title('Balanced Counts of Fraud & No Fraud')\n",
    "plt.savefig('Balanced_plot_of_data')\n",
    "plt.show()"
   ]
  },
  {
   "cell_type": "code",
   "execution_count": 10,
   "id": "d92f930e",
   "metadata": {},
   "outputs": [],
   "source": [
    "# scaling the inputs of the dataset\n",
    "scaler = StandardScaler()\n",
    "X_train_new = scaler.fit_transform(X_train_new)\n",
    "X_test = scaler.transform(X_test)"
   ]
  },
  {
   "cell_type": "code",
   "execution_count": 15,
   "id": "0d84d772",
   "metadata": {},
   "outputs": [],
   "source": [
    "# models we will be testing out [(name,model)]\n",
    "models = [('LR',LogisticRegression(max_iter=300)),\n",
    "          ('KNN',KNeighborsClassifier()),\n",
    "          ('SVC',SVC()),\n",
    "          ('XGB',XGBClassifier()),\n",
    "          ('DTC',DecisionTreeClassifier()),\n",
    "          ('ADA',AdaBoostClassifier()),\n",
    "          ('RF', RandomForestClassifier()),\n",
    "          ('ET',ExtraTreesClassifier())]"
   ]
  },
  {
   "cell_type": "code",
   "execution_count": 32,
   "id": "c0b3a5bd",
   "metadata": {},
   "outputs": [],
   "source": [
    "# tests 2 scoring metrics on all the models above (running this will take a while)\n",
    "scoring = ['accuracy','recall']\n",
    "for score in scoring:  \n",
    "    # imported script created to store modeling code\n",
    "    modeling.show_model_scores(models=models,x=X_train_new,y=y_train_new,scoring=score)"
   ]
  },
  {
   "cell_type": "markdown",
   "id": "720e2385",
   "metadata": {},
   "source": [
    "# Random Forest Classifier Tuning "
   ]
  },
  {
   "cell_type": "code",
   "execution_count": 33,
   "id": "5158bd09",
   "metadata": {},
   "outputs": [],
   "source": [
    "# Number of trees in random forest\n",
    "n_estimators = [int(x) for x in np.linspace(start = 200, stop = 2000, num = 10)]\n",
    "# Number of features to consider at every split\n",
    "max_features = ['auto', 'sqrt']\n",
    "# Maximum number of levels in tree\n",
    "max_depth = [int(x) for x in np.linspace(10, 110, num = 11)]\n",
    "max_depth.append(None)\n",
    "# Minimum number of samples required to split a node\n",
    "min_samples_split = [2, 5, 10]\n",
    "# Minimum number of samples required at each leaf node\n",
    "min_samples_leaf = [1, 2, 4]\n",
    "# Method of selecting samples for training each tree\n",
    "bootstrap = [True, False]\n",
    "# Create the random grid\n",
    "random_grid = {'n_estimators': n_estimators,\n",
    "               'max_features': max_features,\n",
    "               'max_depth': max_depth,\n",
    "               'min_samples_split': min_samples_split,\n",
    "               'min_samples_leaf': min_samples_leaf,\n",
    "               'bootstrap': bootstrap}\n",
    "# using a random searchCV and setting our scoring and # of CV \n",
    "scoring = 'recall'\n",
    "kfold = KFold(n_splits=5,random_state=seed,shuffle=True)\n",
    "\n",
    "rs = RandomizedSearchCV(estimator=RandomForestClassifier(),\n",
    "                       param_distributions=random_grid,\n",
    "                       cv= kfold,\n",
    "                       n_iter=120,\n",
    "                       verbose=3,\n",
    "                       n_jobs= -1,\n",
    "                        scoring=scoring)\n",
    "# fitting the random search model to our training dataset\n",
    "rs.fit(X_train_new,y_train_new)\n",
    "print(f'Best Recall score of {rs.best_score_} using these params {rs.best_params_}')"
   ]
  },
  {
   "cell_type": "code",
   "execution_count": 25,
   "id": "7aad7198",
   "metadata": {},
   "outputs": [
    {
     "name": "stdout",
     "output_type": "stream",
     "text": [
      "Best Recall score of 1.0 using these params {'n_estimators': 1600, 'min_samples_split': 5, 'min_samples_leaf': 1, 'max_features': 'auto', 'max_depth': 70, 'bootstrap': True}\n"
     ]
    }
   ],
   "source": [
    "print(f'Best Recall score of {rs.best_score_} using these params {rs.best_params_}')"
   ]
  },
  {
   "cell_type": "markdown",
   "id": "98dc6b80",
   "metadata": {},
   "source": [
    "# Evaluating Random Forest Model"
   ]
  },
  {
   "cell_type": "code",
   "execution_count": 27,
   "id": "206a4072",
   "metadata": {},
   "outputs": [],
   "source": [
    "# stores final model with the best parameters found from random search\n",
    "final_model = RandomForestClassifier(n_estimators=1600,max_features='auto',\n",
    "                                     min_samples_split=5,min_samples_leaf=1,max_depth=70,\n",
    "                                    bootstrap=True)"
   ]
  },
  {
   "cell_type": "code",
   "execution_count": 28,
   "id": "f13640b6",
   "metadata": {},
   "outputs": [
    {
     "name": "stdout",
     "output_type": "stream",
     "text": [
      "Training Mean Accuracy score: 1.0\n",
      "Testing Mean Accuracy score: 0.9996137776061234\n",
      "Prediction completed.\n"
     ]
    },
    {
     "data": {
      "text/plain": [
       "<Figure size 1500x1200 with 0 Axes>"
      ]
     },
     "metadata": {},
     "output_type": "display_data"
    },
    {
     "data": {
      "image/png": "[encoded data removed]",
      "text/plain": [
       "<Figure size 432x288 with 2 Axes>"
      ]
     },
     "metadata": {},
     "output_type": "display_data"
    },
    {
     "name": "stdout",
     "output_type": "stream",
     "text": [
      "              precision    recall  f1-score   support\n",
      "\n",
      "           0       1.00      1.00      1.00     56862\n",
      "           1       0.95      0.82      0.88       100\n",
      "\n",
      "    accuracy                           1.00     56962\n",
      "   macro avg       0.98      0.91      0.94     56962\n",
      "weighted avg       1.00      1.00      1.00     56962\n",
      "\n"
     ]
    }
   ],
   "source": [
    "# evaluates the model performance\n",
    "modeling.evaluate_model(final_model,X_train_new,y_train_new,X_test,y_test)"
   ]
  },
  {
   "cell_type": "markdown",
   "id": "5f5846f6",
   "metadata": {},
   "source": [
    "# Saving the model"
   ]
  },
  {
   "cell_type": "code",
   "execution_count": 36,
   "id": "885716fe",
   "metadata": {},
   "outputs": [],
   "source": [
    "# saves the model\n",
    "output_model = {'model':final_model}\n",
    "pickle.dump(output_model,open('model_file'+\".p\",'wb'))"
   ]
  },
  {
   "cell_type": "code",
   "execution_count": null,
   "id": "8fd0598a",
   "metadata": {},
   "outputs": [],
   "source": []
  }
 ],
 "metadata": {
  "kernelspec": {
   "display_name": "Python 3 (ipykernel)",
   "language": "python",
   "name": "python3"
  },
  "language_info": {
   "codemirror_mode": {
    "name": "ipython",
    "version": 3
   },
   "file_extension": ".py",
   "mimetype": "text/x-python",
   "name": "python",
   "nbconvert_exporter": "python",
   "pygments_lexer": "ipython3",
   "version": "3.7.9"
  }
 },
 "nbformat": 4,
 "nbformat_minor": 5
}
