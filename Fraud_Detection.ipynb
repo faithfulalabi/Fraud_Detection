{
 "cells": [
  {
   "cell_type": "code",
   "execution_count": 15,
   "id": "e78ffcfb",
   "metadata": {},
   "outputs": [],
   "source": [
    "# packages for data loading, data analysis, and data preparation\n",
    "import numpy as np\n",
    "import pandas as pd\n",
    "import matplotlib.pyplot as plt\n",
    "import seaborn as sns \n",
    "from sklearn.preprocessing import StandardScaler\n",
    "from sklearn.utils import resample\n",
    "\n",
    "# packages for modek evaluation and classification models\n",
    "from sklearn.model_selection import train_test_split,KFold,cross_val_score,GridSearchCV\n",
    "from sklearn.linear_model import LogisticRegression\n",
    "from sklearn.tree import DecisionTreeClassifier\n",
    "from sklearn.neighbors import KNeighborsClassifier\n",
    "from sklearn.discriminant_analysis import LinearDiscriminantAnalysis\n",
    "from sklearn.naive_bayes import GaussianNB\n",
    "from sklearn.svm import SVC\n",
    "from xgboost import XGBClassifier\n",
    "from sklearn.neural_network import MLPClassifier\n",
    "from sklearn.pipeline import Pipeline\n",
    "from sklearn.ensemble import AdaBoostClassifier,GradientBoostingClassifier,RandomForestClassifier,ExtraTreesClassifier\n",
    "from sklearn.metrics import classification_report,confusion_matrix,accuracy_score\n",
    "from tqdm import tqdm\n",
    "\n",
    "# packages for saving the model\n",
    "from pickle import dump, load\n",
    "\n",
    "# script that has modeling functions in it\n",
    "import modeling\n",
    "# packages for parallel processing\n",
    "from multiprocessing import Pool\n",
    "import time"
   ]
  },
  {
   "cell_type": "code",
   "execution_count": 2,
   "id": "f1a22066",
   "metadata": {},
   "outputs": [],
   "source": [
    "# reads in the data \n",
    "df = pd.read_csv('creditcard.csv')"
   ]
  },
  {
   "cell_type": "code",
   "execution_count": 3,
   "id": "a01dc0c9",
   "metadata": {},
   "outputs": [
    {
     "data": {
      "text/html": [
       "<div>\n",
       "<style scoped>\n",
       "    .dataframe tbody tr th:only-of-type {\n",
       "        vertical-align: middle;\n",
       "    }\n",
       "\n",
       "    .dataframe tbody tr th {\n",
       "        vertical-align: top;\n",
       "    }\n",
       "\n",
       "    .dataframe thead th {\n",
       "        text-align: right;\n",
       "    }\n",
       "</style>\n",
       "<table border=\"1\" class=\"dataframe\">\n",
       "  <thead>\n",
       "    <tr style=\"text-align: right;\">\n",
       "      <th></th>\n",
       "      <th>Time</th>\n",
       "      <th>V1</th>\n",
       "      <th>V2</th>\n",
       "      <th>V3</th>\n",
       "      <th>V4</th>\n",
       "      <th>V5</th>\n",
       "      <th>V6</th>\n",
       "      <th>V7</th>\n",
       "      <th>V8</th>\n",
       "      <th>V9</th>\n",
       "      <th>...</th>\n",
       "      <th>V21</th>\n",
       "      <th>V22</th>\n",
       "      <th>V23</th>\n",
       "      <th>V24</th>\n",
       "      <th>V25</th>\n",
       "      <th>V26</th>\n",
       "      <th>V27</th>\n",
       "      <th>V28</th>\n",
       "      <th>Amount</th>\n",
       "      <th>Class</th>\n",
       "    </tr>\n",
       "  </thead>\n",
       "  <tbody>\n",
       "    <tr>\n",
       "      <th>63098</th>\n",
       "      <td>50554.0</td>\n",
       "      <td>1.166753</td>\n",
       "      <td>0.106718</td>\n",
       "      <td>0.037510</td>\n",
       "      <td>0.543880</td>\n",
       "      <td>-0.133286</td>\n",
       "      <td>-0.826923</td>\n",
       "      <td>0.368047</td>\n",
       "      <td>-0.250321</td>\n",
       "      <td>-0.104200</td>\n",
       "      <td>...</td>\n",
       "      <td>-0.486722</td>\n",
       "      <td>-1.613532</td>\n",
       "      <td>0.135220</td>\n",
       "      <td>-0.152774</td>\n",
       "      <td>0.142084</td>\n",
       "      <td>-0.105961</td>\n",
       "      <td>-0.056082</td>\n",
       "      <td>0.025944</td>\n",
       "      <td>74.28</td>\n",
       "      <td>0</td>\n",
       "    </tr>\n",
       "    <tr>\n",
       "      <th>283410</th>\n",
       "      <td>171571.0</td>\n",
       "      <td>-1.089402</td>\n",
       "      <td>0.456534</td>\n",
       "      <td>1.350756</td>\n",
       "      <td>-0.944041</td>\n",
       "      <td>1.073631</td>\n",
       "      <td>-1.348160</td>\n",
       "      <td>0.938652</td>\n",
       "      <td>-0.153383</td>\n",
       "      <td>-0.467290</td>\n",
       "      <td>...</td>\n",
       "      <td>-0.248490</td>\n",
       "      <td>-0.921017</td>\n",
       "      <td>-0.221282</td>\n",
       "      <td>0.035565</td>\n",
       "      <td>0.584309</td>\n",
       "      <td>0.234782</td>\n",
       "      <td>-0.082659</td>\n",
       "      <td>0.046128</td>\n",
       "      <td>4.86</td>\n",
       "      <td>0</td>\n",
       "    </tr>\n",
       "    <tr>\n",
       "      <th>123667</th>\n",
       "      <td>77015.0</td>\n",
       "      <td>0.878055</td>\n",
       "      <td>-1.775494</td>\n",
       "      <td>1.405104</td>\n",
       "      <td>-0.053223</td>\n",
       "      <td>-2.043468</td>\n",
       "      <td>0.882459</td>\n",
       "      <td>-1.404881</td>\n",
       "      <td>0.362399</td>\n",
       "      <td>0.545399</td>\n",
       "      <td>...</td>\n",
       "      <td>-0.336320</td>\n",
       "      <td>-0.453131</td>\n",
       "      <td>-0.173985</td>\n",
       "      <td>0.107308</td>\n",
       "      <td>0.108472</td>\n",
       "      <td>1.109625</td>\n",
       "      <td>-0.006143</td>\n",
       "      <td>0.042527</td>\n",
       "      <td>197.84</td>\n",
       "      <td>0</td>\n",
       "    </tr>\n",
       "    <tr>\n",
       "      <th>93789</th>\n",
       "      <td>64586.0</td>\n",
       "      <td>-0.008437</td>\n",
       "      <td>-0.190730</td>\n",
       "      <td>1.963238</td>\n",
       "      <td>-1.459993</td>\n",
       "      <td>-1.109320</td>\n",
       "      <td>-0.566877</td>\n",
       "      <td>-0.202622</td>\n",
       "      <td>-0.449144</td>\n",
       "      <td>-2.457173</td>\n",
       "      <td>...</td>\n",
       "      <td>-0.276901</td>\n",
       "      <td>-0.210542</td>\n",
       "      <td>0.050410</td>\n",
       "      <td>0.387973</td>\n",
       "      <td>-0.675055</td>\n",
       "      <td>-0.385294</td>\n",
       "      <td>-0.092105</td>\n",
       "      <td>-0.062147</td>\n",
       "      <td>21.00</td>\n",
       "      <td>0</td>\n",
       "    </tr>\n",
       "    <tr>\n",
       "      <th>45306</th>\n",
       "      <td>42285.0</td>\n",
       "      <td>0.784517</td>\n",
       "      <td>-0.413992</td>\n",
       "      <td>0.326760</td>\n",
       "      <td>1.627207</td>\n",
       "      <td>-0.544273</td>\n",
       "      <td>-0.322051</td>\n",
       "      <td>0.282364</td>\n",
       "      <td>-0.053249</td>\n",
       "      <td>0.333597</td>\n",
       "      <td>...</td>\n",
       "      <td>0.025056</td>\n",
       "      <td>-0.139448</td>\n",
       "      <td>-0.178081</td>\n",
       "      <td>0.402084</td>\n",
       "      <td>0.532133</td>\n",
       "      <td>-0.350207</td>\n",
       "      <td>0.001778</td>\n",
       "      <td>0.050138</td>\n",
       "      <td>193.00</td>\n",
       "      <td>0</td>\n",
       "    </tr>\n",
       "    <tr>\n",
       "      <th>142999</th>\n",
       "      <td>85059.0</td>\n",
       "      <td>1.302378</td>\n",
       "      <td>-0.606529</td>\n",
       "      <td>-0.681986</td>\n",
       "      <td>-1.904603</td>\n",
       "      <td>1.326623</td>\n",
       "      <td>3.436312</td>\n",
       "      <td>-1.145127</td>\n",
       "      <td>0.959147</td>\n",
       "      <td>1.671302</td>\n",
       "      <td>...</td>\n",
       "      <td>-0.064208</td>\n",
       "      <td>-0.080587</td>\n",
       "      <td>-0.072991</td>\n",
       "      <td>1.018136</td>\n",
       "      <td>0.663575</td>\n",
       "      <td>-0.671323</td>\n",
       "      <td>0.096801</td>\n",
       "      <td>0.028697</td>\n",
       "      <td>1.00</td>\n",
       "      <td>0</td>\n",
       "    </tr>\n",
       "    <tr>\n",
       "      <th>71544</th>\n",
       "      <td>54332.0</td>\n",
       "      <td>1.457665</td>\n",
       "      <td>-0.584446</td>\n",
       "      <td>0.396655</td>\n",
       "      <td>-0.866750</td>\n",
       "      <td>-0.858737</td>\n",
       "      <td>-0.300287</td>\n",
       "      <td>-0.842416</td>\n",
       "      <td>-0.079728</td>\n",
       "      <td>-0.516689</td>\n",
       "      <td>...</td>\n",
       "      <td>0.240366</td>\n",
       "      <td>0.659298</td>\n",
       "      <td>-0.204947</td>\n",
       "      <td>-0.543342</td>\n",
       "      <td>0.589271</td>\n",
       "      <td>-0.045470</td>\n",
       "      <td>0.026611</td>\n",
       "      <td>0.013048</td>\n",
       "      <td>11.00</td>\n",
       "      <td>0</td>\n",
       "    </tr>\n",
       "    <tr>\n",
       "      <th>276918</th>\n",
       "      <td>167359.0</td>\n",
       "      <td>1.803399</td>\n",
       "      <td>0.320727</td>\n",
       "      <td>0.337091</td>\n",
       "      <td>3.735369</td>\n",
       "      <td>-0.237984</td>\n",
       "      <td>0.371665</td>\n",
       "      <td>-0.448726</td>\n",
       "      <td>0.207701</td>\n",
       "      <td>-0.747317</td>\n",
       "      <td>...</td>\n",
       "      <td>-0.134348</td>\n",
       "      <td>-0.423744</td>\n",
       "      <td>0.428279</td>\n",
       "      <td>-0.009524</td>\n",
       "      <td>-0.607548</td>\n",
       "      <td>-0.407685</td>\n",
       "      <td>0.005687</td>\n",
       "      <td>-0.032126</td>\n",
       "      <td>13.77</td>\n",
       "      <td>0</td>\n",
       "    </tr>\n",
       "    <tr>\n",
       "      <th>208660</th>\n",
       "      <td>137215.0</td>\n",
       "      <td>2.026497</td>\n",
       "      <td>-0.625955</td>\n",
       "      <td>-1.769159</td>\n",
       "      <td>-0.377397</td>\n",
       "      <td>0.430064</td>\n",
       "      <td>0.201631</td>\n",
       "      <td>-0.006339</td>\n",
       "      <td>-0.116667</td>\n",
       "      <td>-0.877989</td>\n",
       "      <td>...</td>\n",
       "      <td>-0.251135</td>\n",
       "      <td>0.084482</td>\n",
       "      <td>0.181234</td>\n",
       "      <td>-0.977078</td>\n",
       "      <td>-0.070683</td>\n",
       "      <td>0.700657</td>\n",
       "      <td>-0.018380</td>\n",
       "      <td>-0.079653</td>\n",
       "      <td>28.00</td>\n",
       "      <td>0</td>\n",
       "    </tr>\n",
       "    <tr>\n",
       "      <th>185576</th>\n",
       "      <td>126729.0</td>\n",
       "      <td>1.928783</td>\n",
       "      <td>-0.053184</td>\n",
       "      <td>-1.780025</td>\n",
       "      <td>1.244189</td>\n",
       "      <td>0.487603</td>\n",
       "      <td>-0.653208</td>\n",
       "      <td>0.500303</td>\n",
       "      <td>-0.188089</td>\n",
       "      <td>0.157222</td>\n",
       "      <td>...</td>\n",
       "      <td>0.089881</td>\n",
       "      <td>0.297853</td>\n",
       "      <td>-0.075341</td>\n",
       "      <td>-0.423563</td>\n",
       "      <td>0.412633</td>\n",
       "      <td>-0.486562</td>\n",
       "      <td>-0.035170</td>\n",
       "      <td>-0.071197</td>\n",
       "      <td>49.57</td>\n",
       "      <td>0</td>\n",
       "    </tr>\n",
       "  </tbody>\n",
       "</table>\n",
       "<p>10 rows × 31 columns</p>\n",
       "</div>"
      ],
      "text/plain": [
       "            Time        V1        V2        V3        V4        V5        V6  \\\n",
       "63098    50554.0  1.166753  0.106718  0.037510  0.543880 -0.133286 -0.826923   \n",
       "283410  171571.0 -1.089402  0.456534  1.350756 -0.944041  1.073631 -1.348160   \n",
       "123667   77015.0  0.878055 -1.775494  1.405104 -0.053223 -2.043468  0.882459   \n",
       "93789    64586.0 -0.008437 -0.190730  1.963238 -1.459993 -1.109320 -0.566877   \n",
       "45306    42285.0  0.784517 -0.413992  0.326760  1.627207 -0.544273 -0.322051   \n",
       "142999   85059.0  1.302378 -0.606529 -0.681986 -1.904603  1.326623  3.436312   \n",
       "71544    54332.0  1.457665 -0.584446  0.396655 -0.866750 -0.858737 -0.300287   \n",
       "276918  167359.0  1.803399  0.320727  0.337091  3.735369 -0.237984  0.371665   \n",
       "208660  137215.0  2.026497 -0.625955 -1.769159 -0.377397  0.430064  0.201631   \n",
       "185576  126729.0  1.928783 -0.053184 -1.780025  1.244189  0.487603 -0.653208   \n",
       "\n",
       "              V7        V8        V9  ...       V21       V22       V23  \\\n",
       "63098   0.368047 -0.250321 -0.104200  ... -0.486722 -1.613532  0.135220   \n",
       "283410  0.938652 -0.153383 -0.467290  ... -0.248490 -0.921017 -0.221282   \n",
       "123667 -1.404881  0.362399  0.545399  ... -0.336320 -0.453131 -0.173985   \n",
       "93789  -0.202622 -0.449144 -2.457173  ... -0.276901 -0.210542  0.050410   \n",
       "45306   0.282364 -0.053249  0.333597  ...  0.025056 -0.139448 -0.178081   \n",
       "142999 -1.145127  0.959147  1.671302  ... -0.064208 -0.080587 -0.072991   \n",
       "71544  -0.842416 -0.079728 -0.516689  ...  0.240366  0.659298 -0.204947   \n",
       "276918 -0.448726  0.207701 -0.747317  ... -0.134348 -0.423744  0.428279   \n",
       "208660 -0.006339 -0.116667 -0.877989  ... -0.251135  0.084482  0.181234   \n",
       "185576  0.500303 -0.188089  0.157222  ...  0.089881  0.297853 -0.075341   \n",
       "\n",
       "             V24       V25       V26       V27       V28  Amount  Class  \n",
       "63098  -0.152774  0.142084 -0.105961 -0.056082  0.025944   74.28      0  \n",
       "283410  0.035565  0.584309  0.234782 -0.082659  0.046128    4.86      0  \n",
       "123667  0.107308  0.108472  1.109625 -0.006143  0.042527  197.84      0  \n",
       "93789   0.387973 -0.675055 -0.385294 -0.092105 -0.062147   21.00      0  \n",
       "45306   0.402084  0.532133 -0.350207  0.001778  0.050138  193.00      0  \n",
       "142999  1.018136  0.663575 -0.671323  0.096801  0.028697    1.00      0  \n",
       "71544  -0.543342  0.589271 -0.045470  0.026611  0.013048   11.00      0  \n",
       "276918 -0.009524 -0.607548 -0.407685  0.005687 -0.032126   13.77      0  \n",
       "208660 -0.977078 -0.070683  0.700657 -0.018380 -0.079653   28.00      0  \n",
       "185576 -0.423563  0.412633 -0.486562 -0.035170 -0.071197   49.57      0  \n",
       "\n",
       "[10 rows x 31 columns]"
      ]
     },
     "execution_count": 3,
     "metadata": {},
     "output_type": "execute_result"
    }
   ],
   "source": [
    "# looks at 10 random rows in the data\n",
    "df.sample(10)"
   ]
  },
  {
   "cell_type": "code",
   "execution_count": 4,
   "id": "6d1029e9",
   "metadata": {},
   "outputs": [
    {
     "name": "stdout",
     "output_type": "stream",
     "text": [
      "<class 'pandas.core.frame.DataFrame'>\n",
      "RangeIndex: 284807 entries, 0 to 284806\n",
      "Data columns (total 31 columns):\n",
      " #   Column  Non-Null Count   Dtype  \n",
      "---  ------  --------------   -----  \n",
      " 0   Time    284807 non-null  float64\n",
      " 1   V1      284807 non-null  float64\n",
      " 2   V2      284807 non-null  float64\n",
      " 3   V3      284807 non-null  float64\n",
      " 4   V4      284807 non-null  float64\n",
      " 5   V5      284807 non-null  float64\n",
      " 6   V6      284807 non-null  float64\n",
      " 7   V7      284807 non-null  float64\n",
      " 8   V8      284807 non-null  float64\n",
      " 9   V9      284807 non-null  float64\n",
      " 10  V10     284807 non-null  float64\n",
      " 11  V11     284807 non-null  float64\n",
      " 12  V12     284807 non-null  float64\n",
      " 13  V13     284807 non-null  float64\n",
      " 14  V14     284807 non-null  float64\n",
      " 15  V15     284807 non-null  float64\n",
      " 16  V16     284807 non-null  float64\n",
      " 17  V17     284807 non-null  float64\n",
      " 18  V18     284807 non-null  float64\n",
      " 19  V19     284807 non-null  float64\n",
      " 20  V20     284807 non-null  float64\n",
      " 21  V21     284807 non-null  float64\n",
      " 22  V22     284807 non-null  float64\n",
      " 23  V23     284807 non-null  float64\n",
      " 24  V24     284807 non-null  float64\n",
      " 25  V25     284807 non-null  float64\n",
      " 26  V26     284807 non-null  float64\n",
      " 27  V27     284807 non-null  float64\n",
      " 28  V28     284807 non-null  float64\n",
      " 29  Amount  284807 non-null  float64\n",
      " 30  Class   284807 non-null  int64  \n",
      "dtypes: float64(30), int64(1)\n",
      "memory usage: 67.4 MB\n"
     ]
    }
   ],
   "source": [
    "df.info()"
   ]
  },
  {
   "cell_type": "code",
   "execution_count": 5,
   "id": "810da50e",
   "metadata": {},
   "outputs": [
    {
     "data": {
      "text/plain": [
       "No Fraud    284315\n",
       "Fraud          492\n",
       "Name: Class, dtype: int64"
      ]
     },
     "execution_count": 5,
     "metadata": {},
     "output_type": "execute_result"
    }
   ],
   "source": [
    "# looks at the balance of Fraud and None Fraud\n",
    "class_name ={0:'No Fraud',1:'Fraud'}\n",
    "df['Class'].value_counts().rename(index=class_name)"
   ]
  },
  {
   "cell_type": "code",
   "execution_count": 6,
   "id": "fa57a869",
   "metadata": {},
   "outputs": [
    {
     "name": "stderr",
     "output_type": "stream",
     "text": [
      "/Users/faithful/Desktop/Data_Sci_Projects/Fraud_Detection/venv/lib/python3.8/site-packages/seaborn/_decorators.py:36: FutureWarning: Pass the following variable as a keyword arg: x. From version 0.12, the only valid positional argument will be `data`, and passing other arguments without an explicit keyword will result in an error or misinterpretation.\n",
      "  warnings.warn(\n"
     ]
    },
    {
     "data": {
      "image/png": "[encoded data removed]",
      "text/plain": [
       "<Figure size 432x288 with 1 Axes>"
      ]
     },
     "metadata": {
      "needs_background": "light"
     },
     "output_type": "display_data"
    }
   ],
   "source": [
    "colors = [\"g\", \"r\"]\n",
    "plt.figure(figsize=(6, 4))\n",
    "sns.set_style('whitegrid')\n",
    "\n",
    "x = df['Class'].replace(to_replace=[1, 0], value=['Fraud','No Fraud'])\n",
    "sns.countplot(x,palette=colors,data=df)\n",
    "plt.title('Counts of Fraud & No Fraud')\n",
    "plt.show()"
   ]
  },
  {
   "cell_type": "code",
   "execution_count": 7,
   "id": "0a6e716b",
   "metadata": {},
   "outputs": [],
   "source": [
    "# splitting the data into train test split \n",
    "X = df.drop('Class',axis=1)\n",
    "y = df['Class']\n",
    "validation_size = 0.2\n",
    "seed = 7\n",
    "X_train, X_test, y_train, y_test = train_test_split(X, y, test_size=validation_size, random_state=seed)"
   ]
  },
  {
   "cell_type": "code",
   "execution_count": 8,
   "id": "0b4a007f",
   "metadata": {},
   "outputs": [
    {
     "data": {
      "text/plain": [
       "No Fraud    227453\n",
       "Fraud       227453\n",
       "Name: Class, dtype: int64"
      ]
     },
     "execution_count": 8,
     "metadata": {},
     "output_type": "execute_result"
    }
   ],
   "source": [
    "# concatenate our training data back together\n",
    "data = pd.concat([X_train,y_train],axis=1)\n",
    "\n",
    "#separate minority and majority classes\n",
    "no_fraud = data[data['Class']==0]\n",
    "fraud = data[data['Class']== 1]\n",
    "\n",
    "# unsample minority\n",
    "fraud_upsampled = resample(fraud,\n",
    "                          replace=True, # sample with replacement\n",
    "                          n_samples=len(no_fraud), # match number in majority class\n",
    "                          random_state=42) \n",
    "# combines majority and unsampled minority\n",
    "unsampled = pd.concat([no_fraud,fraud_upsampled])\n",
    "\n",
    "# resplitting the data\n",
    "y_train_new = unsampled['Class']\n",
    "X_train_new = unsampled.drop('Class',axis=1)\n",
    "y_train_new.value_counts().rename(index=class_name)"
   ]
  },
  {
   "cell_type": "code",
   "execution_count": 9,
   "id": "5e02cd77",
   "metadata": {},
   "outputs": [
    {
     "name": "stderr",
     "output_type": "stream",
     "text": [
      "/Users/faithful/Desktop/Data_Sci_Projects/Fraud_Detection/venv/lib/python3.8/site-packages/seaborn/_decorators.py:36: FutureWarning: Pass the following variable as a keyword arg: x. From version 0.12, the only valid positional argument will be `data`, and passing other arguments without an explicit keyword will result in an error or misinterpretation.\n",
      "  warnings.warn(\n"
     ]
    },
    {
     "data": {
      "image/png": "[encoded data removed]",
      "text/plain": [
       "<Figure size 1500x1200 with 1 Axes>"
      ]
     },
     "metadata": {},
     "output_type": "display_data"
    }
   ],
   "source": [
    "plt.figure(figsize=(10,8),dpi=150)\n",
    "x = unsampled['Class'].replace(to_replace=[1, 0], value=['Fraud','No Fraud'])\n",
    "sns.countplot( x,data=unsampled,palette=colors)\n",
    "plt.title('Counts of Fraud & No Fraud')\n",
    "plt.show()"
   ]
  },
  {
   "cell_type": "code",
   "execution_count": 10,
   "id": "d92f930e",
   "metadata": {},
   "outputs": [],
   "source": [
    "# scaling the inputs of the dataset\n",
    "scaler = StandardScaler()\n",
    "X_train_new = scaler.fit_transform(X_train_new)\n",
    "X_test = scaler.transform(X_test)"
   ]
  },
  {
   "cell_type": "code",
   "execution_count": 22,
   "id": "c98a38e2",
   "metadata": {},
   "outputs": [],
   "source": [
    "# function that takes in model and training score and stores them in a df\n",
    "# setting up inital dataframe\n",
    "model_result_df=pd.DataFrame(columns=[\"model_name\",\"TrainScore\"])\n",
    "\n",
    "def stores_model_results(modl_name,train_score):\n",
    "    global model_result_df # changes the state of the global variable \n",
    "    row_loc=model_result_df.shape[0]+1\n",
    "    model_result_df.loc[row_loc,[\"model_name\",\"TrainScore\"]]=[modl_name,train_score]"
   ]
  },
  {
   "cell_type": "code",
   "execution_count": 27,
   "id": "43221318",
   "metadata": {},
   "outputs": [],
   "source": [
    "# Run each model and show the combined results.\n",
    "# def show_model_scores(x,y):\n",
    "#     global model_result_df\n",
    "#     model_result_df=model_result_df.iloc[0:0] # resets the display df\n",
    "#     scoring = 'accuracy'\n",
    "#     #model_result_df = pd.DataFrame(columns = ['Model', 'TrainScore'])\n",
    "#     for name,model in tqdm( [('LR',LogisticRegression(solver='lbfgs',max_iter=1000)),\n",
    "#                    ('KNN',KNeighborsClassifier()),\n",
    "#                    ('CART',DecisionTreeClassifier()),\n",
    "#                    ('XGB',XGBClassifier()),\n",
    "#                    ('ETC',ExtraTreesClassifier()),\n",
    "#                     ('RF',RandomForestClassifier()),\n",
    "#                   ('Ada',AdaBoostClassifier()),\n",
    "#                         ('GBM',GradientBoostingClassifier()),\n",
    "#                        ('SVM',SVC())]):\n",
    "#         kflod = KFold(n_splits=5,random_state=seed,shuffle=True)\n",
    "#         cv_results = cross_val_score(model,x,y,cv=kflod,scoring=scoring)\n",
    "#         #t = pd.Series({'Model':name,'TrainScore': cv_results})\n",
    "#         #model_result_df= model_result_df.append(t,ignore_index=True)\n",
    "#         stores_model_results(name, cv_results)\n",
    "#         #model_result_df.sort_values(by=\"TrainScore\",ascending=False,inplace=True,axis=1)\n",
    "#     print(model_result_df)\n",
    "#     #plots out the result\n",
    "#     sns.set_style(\"darkgrid\")\n",
    "#     plt.figure(figsize=(10,8),dpi=150)\n",
    "#     axes = sns.boxenplot(data=model_result_df,x='model_name',y='TrainScore')\n",
    "#     plt.title('Training Accuracy Scores')\n",
    "#     plt.show()"
   ]
  },
  {
   "cell_type": "code",
   "execution_count": 31,
   "id": "87fd131c",
   "metadata": {},
   "outputs": [],
   "source": [
    "def show_model_scores(x,y):\n",
    "    #global model_result_df\n",
    "    #model_result_df=model_result_df.iloc[0:0] # resets the display df\n",
    "    scoring = 'accuracy'\n",
    "    names =[]\n",
    "    results =[]\n",
    "    #model_result_df = pd.DataFrame(columns = ['Model', 'TrainScore'])\n",
    "    for name,model in tqdm( [('LR',LogisticRegression(solver='lbfgs',max_iter=1000)),\n",
    "                   ('KNN',KNeighborsClassifier()),\n",
    "                   ('CART',DecisionTreeClassifier()),\n",
    "                   ('XGB',XGBClassifier()),\n",
    "                   ('ETC',ExtraTreesClassifier()),\n",
    "                    ('RF',RandomForestClassifier()),\n",
    "                  ('Ada',AdaBoostClassifier()),\n",
    "                        ('GBM',GradientBoostingClassifier()),\n",
    "                       ('SVM',SVC())]):\n",
    "        kflod = KFold(n_splits=5,random_state=seed,shuffle=True)\n",
    "        cv_results = cross_val_score(model,x,y,cv=kflod,scoring=scoring)\n",
    "        results.append(cv_results)\n",
    "        names.append(name)\n",
    "        #t = pd.Series({'Model':name,'TrainScore': cv_results})\n",
    "        #model_result_df= model_result_df.append(t,ignore_index=True)\n",
    "        stores_model_results(name, cv_results)\n",
    "        #model_result_df.sort_values(by=\"TrainScore\",ascending=False,inplace=True,axis=1)\n",
    "        print(f'Model {name} has an average accuracy score of {cv_results.mean()}')\n",
    "    sns.set_style(\"darkgrid\")\n",
    "    plt.figure(figsize=(10,8),dpi=150)\n",
    "    axes = sns.boxplot(data=results) # left, bottom, width, height (range 0 to 1)\n",
    "    ind = np.arange(len(names))\n",
    "    axes.set_xticks(ind)\n",
    "    axes.set_xticklabels(names)\n",
    "    plt.title('Training Accuracy Errors')\n",
    "    plt.show()"
   ]
  },
  {
   "cell_type": "code",
   "execution_count": 32,
   "id": "6e34b53f",
   "metadata": {},
   "outputs": [
    {
     "name": "stderr",
     "output_type": "stream",
     "text": [
      "  0%|                                                     | 0/9 [00:00<?, ?it/s]/Users/faithful/Desktop/Data_Sci_Projects/Fraud_Detection/venv/lib/python3.8/site-packages/pandas/core/dtypes/cast.py:881: VisibleDeprecationWarning: Creating an ndarray from ragged nested sequences (which is a list-or-tuple of lists-or-tuples-or ndarrays with different lengths or shapes) is deprecated. If you meant to do this, you must specify 'dtype=object' when creating the ndarray.\n",
      "  element = np.asarray(element)\n",
      "/Users/faithful/Desktop/Data_Sci_Projects/Fraud_Detection/venv/lib/python3.8/site-packages/pandas/core/internals/blocks.py:938: VisibleDeprecationWarning: Creating an ndarray from ragged nested sequences (which is a list-or-tuple of lists-or-tuples-or ndarrays with different lengths or shapes) is deprecated. If you meant to do this, you must specify 'dtype=object' when creating the ndarray.\n",
      "  arr_value = np.asarray(value)\n",
      " 11%|█████                                        | 1/9 [00:25<03:23, 25.40s/it]"
     ]
    },
    {
     "name": "stdout",
     "output_type": "stream",
     "text": [
      "Model LR has an average accuracy score of 0.9504974664049332\n"
     ]
    },
    {
     "name": "stderr",
     "output_type": "stream",
     "text": [
      "/Users/faithful/Desktop/Data_Sci_Projects/Fraud_Detection/venv/lib/python3.8/site-packages/pandas/core/dtypes/cast.py:881: VisibleDeprecationWarning: Creating an ndarray from ragged nested sequences (which is a list-or-tuple of lists-or-tuples-or ndarrays with different lengths or shapes) is deprecated. If you meant to do this, you must specify 'dtype=object' when creating the ndarray.\n",
      "  element = np.asarray(element)\n",
      "/Users/faithful/Desktop/Data_Sci_Projects/Fraud_Detection/venv/lib/python3.8/site-packages/pandas/core/internals/blocks.py:938: VisibleDeprecationWarning: Creating an ndarray from ragged nested sequences (which is a list-or-tuple of lists-or-tuples-or ndarrays with different lengths or shapes) is deprecated. If you meant to do this, you must specify 'dtype=object' when creating the ndarray.\n",
      "  arr_value = np.asarray(value)\n",
      "\r",
      " 22%|█████████                                | 2/9 [54:38<3:44:26, 1923.78s/it]"
     ]
    },
    {
     "name": "stdout",
     "output_type": "stream",
     "text": [
      "Model KNN has an average accuracy score of 0.9996416840324456\n"
     ]
    },
    {
     "name": "stderr",
     "output_type": "stream",
     "text": [
      "/Users/faithful/Desktop/Data_Sci_Projects/Fraud_Detection/venv/lib/python3.8/site-packages/pandas/core/dtypes/cast.py:881: VisibleDeprecationWarning: Creating an ndarray from ragged nested sequences (which is a list-or-tuple of lists-or-tuples-or ndarrays with different lengths or shapes) is deprecated. If you meant to do this, you must specify 'dtype=object' when creating the ndarray.\n",
      "  element = np.asarray(element)\n",
      "/Users/faithful/Desktop/Data_Sci_Projects/Fraud_Detection/venv/lib/python3.8/site-packages/pandas/core/internals/blocks.py:938: VisibleDeprecationWarning: Creating an ndarray from ragged nested sequences (which is a list-or-tuple of lists-or-tuples-or ndarrays with different lengths or shapes) is deprecated. If you meant to do this, you must specify 'dtype=object' when creating the ndarray.\n",
      "  arr_value = np.asarray(value)\n",
      " 33%|█████████████▋                           | 3/9 [55:32<1:47:00, 1070.01s/it]/Users/faithful/Desktop/Data_Sci_Projects/Fraud_Detection/venv/lib/python3.8/site-packages/xgboost/sklearn.py:1146: UserWarning: The use of label encoder in XGBClassifier is deprecated and will be removed in a future release. To remove this warning, do the following: 1) Pass option use_label_encoder=False when constructing XGBClassifier object; and 2) Encode your labels (y) as integers starting with 0, i.e. 0, 1, 2, ..., [num_class - 1].\n",
      "  warnings.warn(label_encoder_deprecation_msg, UserWarning)\n"
     ]
    },
    {
     "name": "stdout",
     "output_type": "stream",
     "text": [
      "Model CART has an average accuracy score of 0.9997384074033562\n",
      "[18:57:44] WARNING: /Users/travis/build/dmlc/xgboost/src/learner.cc:1095: Starting in XGBoost 1.3.0, the default evaluation metric used with the objective 'binary:logistic' was changed from 'error' to 'logloss'. Explicitly set eval_metric if you'd like to restore the old behavior.\n"
     ]
    },
    {
     "name": "stderr",
     "output_type": "stream",
     "text": [
      "/Users/faithful/Desktop/Data_Sci_Projects/Fraud_Detection/venv/lib/python3.8/site-packages/xgboost/sklearn.py:1146: UserWarning: The use of label encoder in XGBClassifier is deprecated and will be removed in a future release. To remove this warning, do the following: 1) Pass option use_label_encoder=False when constructing XGBClassifier object; and 2) Encode your labels (y) as integers starting with 0, i.e. 0, 1, 2, ..., [num_class - 1].\n",
      "  warnings.warn(label_encoder_deprecation_msg, UserWarning)\n"
     ]
    },
    {
     "name": "stdout",
     "output_type": "stream",
     "text": [
      "[18:58:31] WARNING: /Users/travis/build/dmlc/xgboost/src/learner.cc:1095: Starting in XGBoost 1.3.0, the default evaluation metric used with the objective 'binary:logistic' was changed from 'error' to 'logloss'. Explicitly set eval_metric if you'd like to restore the old behavior.\n"
     ]
    },
    {
     "name": "stderr",
     "output_type": "stream",
     "text": [
      "/Users/faithful/Desktop/Data_Sci_Projects/Fraud_Detection/venv/lib/python3.8/site-packages/xgboost/sklearn.py:1146: UserWarning: The use of label encoder in XGBClassifier is deprecated and will be removed in a future release. To remove this warning, do the following: 1) Pass option use_label_encoder=False when constructing XGBClassifier object; and 2) Encode your labels (y) as integers starting with 0, i.e. 0, 1, 2, ..., [num_class - 1].\n",
      "  warnings.warn(label_encoder_deprecation_msg, UserWarning)\n"
     ]
    },
    {
     "name": "stdout",
     "output_type": "stream",
     "text": [
      "[18:59:16] WARNING: /Users/travis/build/dmlc/xgboost/src/learner.cc:1095: Starting in XGBoost 1.3.0, the default evaluation metric used with the objective 'binary:logistic' was changed from 'error' to 'logloss'. Explicitly set eval_metric if you'd like to restore the old behavior.\n"
     ]
    },
    {
     "name": "stderr",
     "output_type": "stream",
     "text": [
      "/Users/faithful/Desktop/Data_Sci_Projects/Fraud_Detection/venv/lib/python3.8/site-packages/xgboost/sklearn.py:1146: UserWarning: The use of label encoder in XGBClassifier is deprecated and will be removed in a future release. To remove this warning, do the following: 1) Pass option use_label_encoder=False when constructing XGBClassifier object; and 2) Encode your labels (y) as integers starting with 0, i.e. 0, 1, 2, ..., [num_class - 1].\n",
      "  warnings.warn(label_encoder_deprecation_msg, UserWarning)\n"
     ]
    },
    {
     "name": "stdout",
     "output_type": "stream",
     "text": [
      "[19:00:04] WARNING: /Users/travis/build/dmlc/xgboost/src/learner.cc:1095: Starting in XGBoost 1.3.0, the default evaluation metric used with the objective 'binary:logistic' was changed from 'error' to 'logloss'. Explicitly set eval_metric if you'd like to restore the old behavior.\n"
     ]
    },
    {
     "name": "stderr",
     "output_type": "stream",
     "text": [
      "/Users/faithful/Desktop/Data_Sci_Projects/Fraud_Detection/venv/lib/python3.8/site-packages/xgboost/sklearn.py:1146: UserWarning: The use of label encoder in XGBClassifier is deprecated and will be removed in a future release. To remove this warning, do the following: 1) Pass option use_label_encoder=False when constructing XGBClassifier object; and 2) Encode your labels (y) as integers starting with 0, i.e. 0, 1, 2, ..., [num_class - 1].\n",
      "  warnings.warn(label_encoder_deprecation_msg, UserWarning)\n"
     ]
    },
    {
     "name": "stdout",
     "output_type": "stream",
     "text": [
      "[19:00:52] WARNING: /Users/travis/build/dmlc/xgboost/src/learner.cc:1095: Starting in XGBoost 1.3.0, the default evaluation metric used with the objective 'binary:logistic' was changed from 'error' to 'logloss'. Explicitly set eval_metric if you'd like to restore the old behavior.\n"
     ]
    },
    {
     "name": "stderr",
     "output_type": "stream",
     "text": [
      "/Users/faithful/Desktop/Data_Sci_Projects/Fraud_Detection/venv/lib/python3.8/site-packages/pandas/core/dtypes/cast.py:881: VisibleDeprecationWarning: Creating an ndarray from ragged nested sequences (which is a list-or-tuple of lists-or-tuples-or ndarrays with different lengths or shapes) is deprecated. If you meant to do this, you must specify 'dtype=object' when creating the ndarray.\n",
      "  element = np.asarray(element)\n",
      "/Users/faithful/Desktop/Data_Sci_Projects/Fraud_Detection/venv/lib/python3.8/site-packages/pandas/core/internals/blocks.py:938: VisibleDeprecationWarning: Creating an ndarray from ragged nested sequences (which is a list-or-tuple of lists-or-tuples-or ndarrays with different lengths or shapes) is deprecated. If you meant to do this, you must specify 'dtype=object' when creating the ndarray.\n",
      "  arr_value = np.asarray(value)\n",
      "\r",
      " 44%|██████████████████▋                       | 4/9 [59:27<1:01:42, 740.60s/it]"
     ]
    },
    {
     "name": "stdout",
     "output_type": "stream",
     "text": [
      "Model XGB has an average accuracy score of 0.999912069770437\n"
     ]
    },
    {
     "name": "stderr",
     "output_type": "stream",
     "text": [
      "/Users/faithful/Desktop/Data_Sci_Projects/Fraud_Detection/venv/lib/python3.8/site-packages/pandas/core/dtypes/cast.py:881: VisibleDeprecationWarning: Creating an ndarray from ragged nested sequences (which is a list-or-tuple of lists-or-tuples-or ndarrays with different lengths or shapes) is deprecated. If you meant to do this, you must specify 'dtype=object' when creating the ndarray.\n",
      "  element = np.asarray(element)\n",
      "/Users/faithful/Desktop/Data_Sci_Projects/Fraud_Detection/venv/lib/python3.8/site-packages/pandas/core/internals/blocks.py:938: VisibleDeprecationWarning: Creating an ndarray from ragged nested sequences (which is a list-or-tuple of lists-or-tuples-or ndarrays with different lengths or shapes) is deprecated. If you meant to do this, you must specify 'dtype=object' when creating the ndarray.\n",
      "  arr_value = np.asarray(value)\n",
      "\r",
      " 56%|███████████████████████▎                  | 5/9 [1:02:37<36:07, 541.85s/it]"
     ]
    },
    {
     "name": "stdout",
     "output_type": "stream",
     "text": [
      "Model ETC has an average accuracy score of 0.9999670261306919\n"
     ]
    },
    {
     "name": "stderr",
     "output_type": "stream",
     "text": [
      "/Users/faithful/Desktop/Data_Sci_Projects/Fraud_Detection/venv/lib/python3.8/site-packages/pandas/core/dtypes/cast.py:881: VisibleDeprecationWarning: Creating an ndarray from ragged nested sequences (which is a list-or-tuple of lists-or-tuples-or ndarrays with different lengths or shapes) is deprecated. If you meant to do this, you must specify 'dtype=object' when creating the ndarray.\n",
      "  element = np.asarray(element)\n",
      "/Users/faithful/Desktop/Data_Sci_Projects/Fraud_Detection/venv/lib/python3.8/site-packages/pandas/core/internals/blocks.py:938: VisibleDeprecationWarning: Creating an ndarray from ragged nested sequences (which is a list-or-tuple of lists-or-tuples-or ndarrays with different lengths or shapes) is deprecated. If you meant to do this, you must specify 'dtype=object' when creating the ndarray.\n",
      "  arr_value = np.asarray(value)\n",
      "\r",
      " 67%|████████████████████████████              | 6/9 [1:14:02<29:31, 590.64s/it]"
     ]
    },
    {
     "name": "stdout",
     "output_type": "stream",
     "text": [
      "Model RF has an average accuracy score of 0.9999494400654502\n"
     ]
    },
    {
     "name": "stderr",
     "output_type": "stream",
     "text": [
      "/Users/faithful/Desktop/Data_Sci_Projects/Fraud_Detection/venv/lib/python3.8/site-packages/pandas/core/dtypes/cast.py:881: VisibleDeprecationWarning: Creating an ndarray from ragged nested sequences (which is a list-or-tuple of lists-or-tuples-or ndarrays with different lengths or shapes) is deprecated. If you meant to do this, you must specify 'dtype=object' when creating the ndarray.\n",
      "  element = np.asarray(element)\n",
      "/Users/faithful/Desktop/Data_Sci_Projects/Fraud_Detection/venv/lib/python3.8/site-packages/pandas/core/internals/blocks.py:938: VisibleDeprecationWarning: Creating an ndarray from ragged nested sequences (which is a list-or-tuple of lists-or-tuples-or ndarrays with different lengths or shapes) is deprecated. If you meant to do this, you must specify 'dtype=object' when creating the ndarray.\n",
      "  arr_value = np.asarray(value)\n",
      "\r",
      " 78%|████████████████████████████████▋         | 7/9 [1:20:19<17:21, 520.71s/it]"
     ]
    },
    {
     "name": "stdout",
     "output_type": "stream",
     "text": [
      "Model Ada has an average accuracy score of 0.9713567126974588\n"
     ]
    },
    {
     "name": "stderr",
     "output_type": "stream",
     "text": [
      "/Users/faithful/Desktop/Data_Sci_Projects/Fraud_Detection/venv/lib/python3.8/site-packages/pandas/core/dtypes/cast.py:881: VisibleDeprecationWarning: Creating an ndarray from ragged nested sequences (which is a list-or-tuple of lists-or-tuples-or ndarrays with different lengths or shapes) is deprecated. If you meant to do this, you must specify 'dtype=object' when creating the ndarray.\n",
      "  element = np.asarray(element)\n",
      "/Users/faithful/Desktop/Data_Sci_Projects/Fraud_Detection/venv/lib/python3.8/site-packages/pandas/core/internals/blocks.py:938: VisibleDeprecationWarning: Creating an ndarray from ragged nested sequences (which is a list-or-tuple of lists-or-tuples-or ndarrays with different lengths or shapes) is deprecated. If you meant to do this, you must specify 'dtype=object' when creating the ndarray.\n",
      "  arr_value = np.asarray(value)\n",
      "\r",
      " 89%|█████████████████████████████████████▎    | 8/9 [1:47:24<14:32, 872.26s/it]"
     ]
    },
    {
     "name": "stdout",
     "output_type": "stream",
     "text": [
      "Model GBM has an average accuracy score of 0.995497970390774\n"
     ]
    },
    {
     "name": "stderr",
     "output_type": "stream",
     "text": [
      "/Users/faithful/Desktop/Data_Sci_Projects/Fraud_Detection/venv/lib/python3.8/site-packages/pandas/core/dtypes/cast.py:881: VisibleDeprecationWarning: Creating an ndarray from ragged nested sequences (which is a list-or-tuple of lists-or-tuples-or ndarrays with different lengths or shapes) is deprecated. If you meant to do this, you must specify 'dtype=object' when creating the ndarray.\n",
      "  element = np.asarray(element)\n",
      "/Users/faithful/Desktop/Data_Sci_Projects/Fraud_Detection/venv/lib/python3.8/site-packages/pandas/core/internals/blocks.py:938: VisibleDeprecationWarning: Creating an ndarray from ragged nested sequences (which is a list-or-tuple of lists-or-tuples-or ndarrays with different lengths or shapes) is deprecated. If you meant to do this, you must specify 'dtype=object' when creating the ndarray.\n",
      "  arr_value = np.asarray(value)\n",
      "100%|█████████████████████████████████████████| 9/9 [3:52:04<00:00, 1547.13s/it]\n"
     ]
    },
    {
     "name": "stdout",
     "output_type": "stream",
     "text": [
      "Model SVM has an average accuracy score of 0.9956716332169234\n"
     ]
    },
    {
     "data": {
      "image/png": "[encoded data removed]",
      "text/plain": [
       "<Figure size 1500x1200 with 1 Axes>"
      ]
     },
     "metadata": {},
     "output_type": "display_data"
    }
   ],
   "source": [
    "show_model_scores(X_train_new,y_train_new)"
   ]
  },
  {
   "cell_type": "markdown",
   "id": "bdbe77c8",
   "metadata": {},
   "source": [
    "# ExtraTrees Classifier Tuning "
   ]
  },
  {
   "cell_type": "code",
   "execution_count": null,
   "id": "5a29fc51",
   "metadata": {},
   "outputs": [
    {
     "name": "stdout",
     "output_type": "stream",
     "text": [
      "Fitting 5 folds for each of 1560 candidates, totalling 7800 fits\n"
     ]
    }
   ],
   "source": [
    "param_tuning={\n",
    "    'n_estimators' : [10, 50, 100, 500, 1000, 5000],\n",
    "    'max_features' : [i for i in range(1,21)],\n",
    "    'min_samples_split': [i for i in range(2,15)],\n",
    "}\n",
    "# using grid search to find the best parameters\n",
    "scoring = 'accuracy'\n",
    "kflod = KFold(n_splits=5,random_state=seed,shuffle=True)\n",
    "\n",
    "gs = GridSearchCV (estimator = ExtraTreesClassifier(),\n",
    "                       param_grid = param_tuning,\n",
    "                       cv = kflod,\n",
    "                       n_jobs= -1,\n",
    "                       verbose = 1,scoring=scoring)\n",
    "# fitting the grid search model to our training dataset\n",
    "gs.fit(X_train,y_train)\n",
    "print(f'Best accuracy score of {gs.best_score_} using these params {gs.best_params_}')"
   ]
  },
  {
   "cell_type": "code",
   "execution_count": null,
   "id": "306ede0f",
   "metadata": {},
   "outputs": [],
   "source": []
  },
  {
   "cell_type": "code",
   "execution_count": null,
   "id": "727acf72",
   "metadata": {},
   "outputs": [],
   "source": []
  },
  {
   "cell_type": "code",
   "execution_count": null,
   "id": "df2359a6",
   "metadata": {},
   "outputs": [],
   "source": []
  },
  {
   "cell_type": "code",
   "execution_count": null,
   "id": "9771c93a",
   "metadata": {},
   "outputs": [],
   "source": []
  },
  {
   "cell_type": "code",
   "execution_count": null,
   "id": "e4ec816b",
   "metadata": {},
   "outputs": [],
   "source": []
  }
 ],
 "metadata": {
  "kernelspec": {
   "display_name": "Python 3 (ipykernel)",
   "language": "python",
   "name": "python3"
  },
  "language_info": {
   "codemirror_mode": {
    "name": "ipython",
    "version": 3
   },
   "file_extension": ".py",
   "mimetype": "text/x-python",
   "name": "python",
   "nbconvert_exporter": "python",
   "pygments_lexer": "ipython3",
   "version": "3.8.3"
  }
 },
 "nbformat": 4,
 "nbformat_minor": 5
}
